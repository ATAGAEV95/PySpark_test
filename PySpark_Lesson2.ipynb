{
 "cells": [
  {
   "cell_type": "code",
   "execution_count": 4,
   "id": "dada7b46-f2fb-493e-8732-11b94dcd2364",
   "metadata": {},
   "outputs": [],
   "source": [
    "from pyspark.sql import SparkSession\n",
    "\n",
    "# Создание SparkSession\n",
    "spark = SparkSession.builder.appName(\"Write Avro Example\") \\\n",
    ".config(\"spark.master\", \"local[*]\") \\\n",
    ".config(\"spark.jars.packages\", \"org.apache.spark:spark-avro_2.12:3.5.1\") \\\n",
    ".getOrCreate()"
   ]
  },
  {
   "cell_type": "code",
   "execution_count": 6,
   "id": "cb6ae5c4-c3bf-44af-bb4e-36f89afa05c9",
   "metadata": {},
   "outputs": [
    {
     "name": "stderr",
     "output_type": "stream",
     "text": [
      "                                                                                \r"
     ]
    }
   ],
   "source": [
    "# Пример данных\n",
    "data = [(\"Alice\", 25), (\"Bob\", 30), (\"Cathy\", 29)]\n",
    "df = spark.createDataFrame(data, [\"Name\", \"Age\"])\n",
    "\n",
    "# Запись данных в Avro\n",
    "df.write.mode(\"overwrite\").format(\"avro\").save(\"/home/jovyan/work/code/PySpark_test/config/avro\")\n",
    "\n",
    "spark.stop()"
   ]
  },
  {
   "cell_type": "code",
   "execution_count": 4,
   "id": "4cc264bf-bc86-4f5e-aa58-3d5dad9b06d5",
   "metadata": {},
   "outputs": [
    {
     "name": "stderr",
     "output_type": "stream",
     "text": [
      "24/07/24 11:39:01 WARN SparkSession: Using an existing Spark session; only runtime SQL configurations will take effect.\n",
      "                                                                                \r"
     ]
    }
   ],
   "source": [
    "from pyspark.sql import SparkSession\n",
    "\n",
    "# Создание SparkSession\n",
    "spark = SparkSession.builder.appName(\"Write Parquet Example\").getOrCreate()\n",
    "\n",
    "# Пример данных\n",
    "data = [(\"Alice\", 25), (\"Bob\", 30), (\"Cathy\", 29)]\n",
    "df = spark.createDataFrame(data, [\"Name\", \"Age\"])\n",
    "\n",
    "# Запись данных в Parquet\n",
    "df.write.parquet(\"/home/jovyan/work/code/PySpark_test/config/parquet\")\n",
    "\n",
    "spark.stop()"
   ]
  },
  {
   "cell_type": "code",
   "execution_count": 5,
   "id": "78012a46-52df-4100-aa8d-6c57e1d486db",
   "metadata": {},
   "outputs": [
    {
     "name": "stderr",
     "output_type": "stream",
     "text": [
      "24/07/24 11:40:48 WARN SparkSession: Using an existing Spark session; only runtime SQL configurations will take effect.\n",
      "                                                                                \r"
     ]
    }
   ],
   "source": [
    "from pyspark.sql import SparkSession\n",
    "\n",
    "# Создание SparkSession\n",
    "spark = SparkSession.builder.appName(\"Write ORC Example\").getOrCreate()\n",
    "\n",
    "# Пример данных\n",
    "data = [(\"Alice\", 25), (\"Bob\", 30), (\"Cathy\", 29)]\n",
    "df = spark.createDataFrame(data, [\"Name\", \"Age\"])\n",
    "\n",
    "# Запись данных в ORC\n",
    "df.write.orc(\"/home/jovyan/work/code/PySpark_test/config/orc\")\n",
    "\n",
    "spark.stop()"
   ]
  },
  {
   "cell_type": "code",
   "execution_count": 23,
   "id": "5cb957d1-a3e0-454a-951d-f264b18ab302",
   "metadata": {},
   "outputs": [
    {
     "name": "stdout",
     "output_type": "stream",
     "text": [
      "+-----+---+\n",
      "| Name|Age|\n",
      "+-----+---+\n",
      "|Cathy| 29|\n",
      "|Alice| 25|\n",
      "|  Bob| 30|\n",
      "+-----+---+\n",
      "\n",
      "+-----+---+\n",
      "| Name|Age|\n",
      "+-----+---+\n",
      "|Alice| 25|\n",
      "|Cathy| 29|\n",
      "|  Bob| 30|\n",
      "+-----+---+\n",
      "\n"
     ]
    }
   ],
   "source": [
    "# df_avro = spark.read.format(\"avro\").load(\"/home/jovyan/work/code/PySpark_test/avro\")\n",
    "# df_avro.show()\n",
    "\n",
    "# Чтение данных из Parquet\n",
    "df_parquet = spark.read.parquet(\"/home/jovyan/work/code/PySpark_test/config/parquet\")\n",
    "df_parquet.show()\n",
    "\n",
    "# Чтение данных из ORC\n",
    "df_orc = spark.read.orc(\"/home/jovyan/work/code/PySpark_test/config/orc\")\n",
    "df_orc.show()\n",
    "\n",
    "spark.stop()"
   ]
  },
  {
   "cell_type": "code",
   "execution_count": null,
   "id": "c6b76f98-afd5-4e09-a5c7-8fadc9da044e",
   "metadata": {},
   "outputs": [],
   "source": []
  }
 ],
 "metadata": {
  "kernelspec": {
   "display_name": "Python 3 (ipykernel)",
   "language": "python",
   "name": "python3"
  },
  "language_info": {
   "codemirror_mode": {
    "name": "ipython",
    "version": 3
   },
   "file_extension": ".py",
   "mimetype": "text/x-python",
   "name": "python",
   "nbconvert_exporter": "python",
   "pygments_lexer": "ipython3",
   "version": "3.11.9"
  }
 },
 "nbformat": 4,
 "nbformat_minor": 5
}

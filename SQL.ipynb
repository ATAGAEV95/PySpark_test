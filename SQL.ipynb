{
 "cells": [
  {
   "cell_type": "code",
   "execution_count": 6,
   "id": "9b4253f1-68d1-4459-8624-4852de68f03a",
   "metadata": {},
   "outputs": [],
   "source": [
    "from pyspark.sql import SparkSession\n",
    "from pyspark.sql.functions import col\n",
    "\n",
    "# Создание SparkSession\n",
    "spark = SparkSession.builder.appName(\"DataFrameAPIExample\").getOrCreate()\n",
    "\n",
    "data = [\n",
    "  {\"name\": \"John\", \"age\": 30, \"department\": \"HR\"},\n",
    "  {\"name\": \"Doe\", \"age\": 25, \"department\": \"Finance\"},\n",
    "  {\"name\": \"Jane\", \"age\": 35, \"department\": \"HR\"},\n",
    "  {\"name\": \"Mark\", \"age\": 40, \"department\": \"Finance\"},\n",
    "  {\"name\": \"Smith\", \"age\": 23, \"department\": \"Engineering\"}\n",
    "]\n",
    "\n",
    "df = spark.createDataFrame(data)\n",
    "\n",
    "# Фильтрация данных\n",
    "filtered_df = df.filter(col(\"age\") > 30)\n",
    "\n",
    "# Группировка и агрегация данных\n",
    "grouped_df = df.groupBy(\"department\").agg({\"age\": \"avg\", \"name\": \"count\"}).withColumnRenamed(\"avg(age)\", \"avg_age\").withColumnRenamed(\"count(name)\", \"count\")\n",
    "\n",
    "# Сортировка данных\n",
    "sorted_df = grouped_df.orderBy(col(\"count\").desc())\n",
    "\n",
    "# Показ результатов\n",
    "# filtered_df.show()\n",
    "# sorted_df.show()\n",
    "\n",
    "# Сохранение результирующего DataFrame в CSV файл\n",
    "# sorted_df.write.csv(\"config/output_2.csv\", header=True)\n",
    "\n",
    "spark.stop()"
   ]
  },
  {
   "cell_type": "code",
   "execution_count": 8,
   "id": "d0627a9c-e7ba-4da0-a713-f6599be3b2da",
   "metadata": {},
   "outputs": [
    {
     "name": "stderr",
     "output_type": "stream",
     "text": [
      "                                                                                \r"
     ]
    },
    {
     "name": "stdout",
     "output_type": "stream",
     "text": [
      "+-----+---+---------------+\n",
      "| name|age|department_name|\n",
      "+-----+---+---------------+\n",
      "| John| 30|             HR|\n",
      "| Jane| 35|             HR|\n",
      "|  Doe| 25|        Finance|\n",
      "| Mark| 40|        Finance|\n",
      "|Smith| 23|    Engineering|\n",
      "+-----+---+---------------+\n",
      "\n"
     ]
    },
    {
     "name": "stderr",
     "output_type": "stream",
     "text": [
      "                                                                                \r"
     ]
    }
   ],
   "source": [
    "from pyspark.sql import SparkSession\n",
    "\n",
    "# Создание SparkSession\n",
    "spark = SparkSession.builder.appName(\"SQLAPIExample\").getOrCreate()\n",
    "\n",
    "data_people = [\n",
    "  {\"name\": \"John\", \"age\": 30, \"department_id\": 1},\n",
    "  {\"name\": \"Doe\", \"age\": 25, \"department_id\": 2},\n",
    "  {\"name\": \"Jane\", \"age\": 35, \"department_id\": 1},\n",
    "  {\"name\": \"Mark\", \"age\": 40, \"department_id\": 2},\n",
    "  {\"name\": \"Smith\", \"age\": 23, \"department_id\": 3}\n",
    "]\n",
    "\n",
    "data_departments = [\n",
    "  {\"id\": 1, \"department_name\": \"HR\"},\n",
    "  {\"id\": 2, \"department_name\": \"Finance\"},\n",
    "  {\"id\": 3, \"department_name\": \"Engineering\"}\n",
    "]\n",
    "\n",
    "# Чтение данных из JSON файлов\n",
    "people_df = spark.createDataFrame(data_people)\n",
    "departments_df = spark.createDataFrame(data_departments)\n",
    "\n",
    "# Регистрация DataFrame как временные таблицы\n",
    "people_df.createOrReplaceTempView(\"people\")\n",
    "departments_df.createOrReplaceTempView(\"departments\")\n",
    "\n",
    "# Выполнение JOIN-запроса с использованием SQL\n",
    "join_df = spark.sql(\"\"\"\n",
    "SELECT p.name, p.age, d.department_name\n",
    "FROM people p\n",
    "JOIN departments d\n",
    "ON p.department_id = d.id\n",
    "\"\"\")\n",
    "\n",
    "# Показ результатов\n",
    "join_df.show()\n",
    "\n",
    "# Сохранение результирующего DataFrame в CSV файл\n",
    "join_df.write.csv(\"config/output_3.csv\", header=True)\n",
    "\n",
    "spark.stop()"
   ]
  }
 ],
 "metadata": {
  "kernelspec": {
   "display_name": "Python 3 (ipykernel)",
   "language": "python",
   "name": "python3"
  },
  "language_info": {
   "codemirror_mode": {
    "name": "ipython",
    "version": 3
   },
   "file_extension": ".py",
   "mimetype": "text/x-python",
   "name": "python",
   "nbconvert_exporter": "python",
   "pygments_lexer": "ipython3",
   "version": "3.11.9"
  }
 },
 "nbformat": 4,
 "nbformat_minor": 5
}

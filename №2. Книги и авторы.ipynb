{
 "cells": [
  {
   "cell_type": "code",
   "execution_count": 25,
   "id": "a69f0777-6458-433e-a0b1-295bead5c830",
   "metadata": {},
   "outputs": [
    {
     "name": "stdout",
     "output_type": "stream",
     "text": [
      "+---------+-------+-------+-----------+-----+------------+---------+----------+---------+\n",
      "|author_id|book_id|  title|      genre|price|publish_date|     name|birth_date|  country|\n",
      "+---------+-------+-------+-----------+-----+------------+---------+----------+---------+\n",
      "|        7|     20|Book_20|    Mystery|91.48|  2018-12-31| Author_7|1990-12-31|      USA|\n",
      "|        5|     19|Book_19|    Science|88.83|  2016-12-31| Author_5|1980-12-31|      USA|\n",
      "|        8|     15|Book_15|    Fantasy| 60.0|  2008-12-31| Author_8|1995-12-31|Australia|\n",
      "|        6|     17|Book_17|    Fantasy|47.57|  2012-12-31| Author_6|1985-12-31|      USA|\n",
      "|        1|     18|Book_18|Non-Fiction|43.92|  2014-12-31| Author_1|1960-12-31|    India|\n",
      "|        2|     16|Book_16|    Fiction|36.22|  2010-12-31| Author_2|1965-12-31|   Canada|\n",
      "|       10|     11|Book_11|Non-Fiction| 31.7|  2000-12-31|Author_10|2005-12-31|    India|\n",
      "|        8|     12|Book_12|Non-Fiction|31.02|  2002-12-31| Author_8|1995-12-31|Australia|\n",
      "|        1|     14|Book_14|    Fiction|26.84|  2006-12-31| Author_1|1960-12-31|    India|\n",
      "|        8|     13|Book_13|Non-Fiction|16.14|  2004-12-31| Author_8|1995-12-31|Australia|\n",
      "+---------+-------+-------+-----------+-----+------------+---------+----------+---------+\n",
      "\n",
      "+---------+-------+-------+-----------+-----+------------+---------+----------+---------+\n",
      "|author_id|book_id|  title|      genre|price|publish_date|     name|birth_date|  country|\n",
      "+---------+-------+-------+-----------+-----+------------+---------+----------+---------+\n",
      "|        2|      1| Book_1|    Mystery|73.57|  1980-12-31| Author_2|1965-12-31|   Canada|\n",
      "|        1|      2| Book_2|Non-Fiction| 41.1|  1982-12-31| Author_1|1960-12-31|    India|\n",
      "|       10|      3| Book_3|    Fiction|10.63|  1984-12-31|Author_10|2005-12-31|    India|\n",
      "|        9|      4| Book_4|Non-Fiction|46.31|  1986-12-31| Author_9|2000-12-31|Australia|\n",
      "|        7|      5| Book_5|    Science|31.13|  1988-12-31| Author_7|1990-12-31|      USA|\n",
      "|        4|      6| Book_6|Non-Fiction| 83.7|  1990-12-31| Author_4|1975-12-31|       UK|\n",
      "|        6|      7| Book_7|Non-Fiction|40.36|  1992-12-31| Author_6|1985-12-31|      USA|\n",
      "|        2|      8| Book_8|Non-Fiction|84.48|  1994-12-31| Author_2|1965-12-31|   Canada|\n",
      "|        7|      9| Book_9|    Fantasy|10.05|  1996-12-31| Author_7|1990-12-31|      USA|\n",
      "|        2|     10|Book_10|    Science| 37.7|  1998-12-31| Author_2|1965-12-31|   Canada|\n",
      "|       10|     11|Book_11|Non-Fiction| 31.7|  2000-12-31|Author_10|2005-12-31|    India|\n",
      "|        8|     12|Book_12|Non-Fiction|31.02|  2002-12-31| Author_8|1995-12-31|Australia|\n",
      "|        8|     13|Book_13|Non-Fiction|16.14|  2004-12-31| Author_8|1995-12-31|Australia|\n",
      "|        1|     14|Book_14|    Fiction|26.84|  2006-12-31| Author_1|1960-12-31|    India|\n",
      "|        8|     15|Book_15|    Fantasy| 60.0|  2008-12-31| Author_8|1995-12-31|Australia|\n",
      "|        2|     16|Book_16|    Fiction|36.22|  2010-12-31| Author_2|1965-12-31|   Canada|\n",
      "|        6|     17|Book_17|    Fantasy|47.57|  2012-12-31| Author_6|1985-12-31|      USA|\n",
      "|        1|     18|Book_18|Non-Fiction|43.92|  2014-12-31| Author_1|1960-12-31|    India|\n",
      "|        5|     19|Book_19|    Science|88.83|  2016-12-31| Author_5|1980-12-31|      USA|\n",
      "|        7|     20|Book_20|    Mystery|91.48|  2018-12-31| Author_7|1990-12-31|      USA|\n",
      "+---------+-------+-------+-----------+-----+------------+---------+----------+---------+\n",
      "\n"
     ]
    }
   ],
   "source": [
    "from pyspark.sql import SparkSession\n",
    "from pyspark.sql.functions import mean, to_date, sum, col, year, month, avg, count\n",
    "\n",
    "spark = SparkSession.builder.appName(\"Books and authors\").getOrCreate()\n",
    "\n",
    "df1 = spark.read.csv(\"/home/jovyan/work/code/PySpark_test/config/authors.csv\", header=True, inferSchema=True)\n",
    "df2 = spark.read.csv(\"/home/jovyan/work/code/PySpark_test/config/books.csv\", header=True, inferSchema=True)\n",
    "\n",
    "df1 = df1.withColumn(\"birth_date\", to_date(df1[\"birth_date\"], \"yyyy-MM-dd\"))\n",
    "df2= df2.withColumn(\"publish_date\", to_date(df2[\"publish_date\"], \"yyyy-MM-dd\"))\n",
    "\n",
    "df_join = df2.join(df1, \"author_id\", \"inner\")\n",
    "\n",
    "top5_authors = df_join.groupBy(\"author_id\", \"name\").agg(sum(\"price\").alias(\"total_revenue\")) \\\n",
    ".orderBy(col(\"total_revenue\").desc()).limit(5)\n",
    "\n",
    "genre_count = df_join.groupBy(\"genre\").agg(count(\"title\").alias(\"count\")) \\\n",
    ".orderBy(col(\"count\").desc())\n",
    "\n",
    "avg_price = df_join.groupBy(\"author_id\", \"name\").agg(avg(\"price\").alias(\"average_price\")) \\\n",
    ".orderBy(col(\"average_price\").desc())\n",
    "\n",
    "df_gone2000 = df_join.filter(year(\"publish_date\") >= 2000)\n",
    "\n",
    "books_gone2000 = df_gone2000.orderBy(col(\"price\").desc())\n",
    "# df1.printSchema()\n",
    "# df2.printSchema()\n",
    "# top5_authors.show()\n",
    "# genre_count.show()\n",
    "# avg_price.show()\n",
    "books_gone2000.show()\n",
    "df_join.show()\n",
    "# df1.show()\n",
    "# df2.show()"
   ]
  },
  {
   "cell_type": "code",
   "execution_count": null,
   "id": "cc45ba99-1b91-4cc1-b5f8-058718a0cda5",
   "metadata": {},
   "outputs": [],
   "source": []
  }
 ],
 "metadata": {
  "kernelspec": {
   "display_name": "Python 3 (ipykernel)",
   "language": "python",
   "name": "python3"
  },
  "language_info": {
   "codemirror_mode": {
    "name": "ipython",
    "version": 3
   },
   "file_extension": ".py",
   "mimetype": "text/x-python",
   "name": "python",
   "nbconvert_exporter": "python",
   "pygments_lexer": "ipython3",
   "version": "3.11.9"
  }
 },
 "nbformat": 4,
 "nbformat_minor": 5
}

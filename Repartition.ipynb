{
 "cells": [
  {
   "cell_type": "code",
   "execution_count": 1,
   "id": "55835120-eb68-4545-b9d6-0600caba8d33",
   "metadata": {},
   "outputs": [
    {
     "name": "stderr",
     "output_type": "stream",
     "text": [
      "Setting default log level to \"WARN\".\n",
      "To adjust logging level use sc.setLogLevel(newLevel). For SparkR, use setLogLevel(newLevel).\n",
      "24/07/30 09:46:01 WARN NativeCodeLoader: Unable to load native-hadoop library for your platform... using builtin-java classes where applicable\n"
     ]
    },
    {
     "name": "stdout",
     "output_type": "stream",
     "text": [
      "Initial number of partitions: 4\n"
     ]
    },
    {
     "name": "stderr",
     "output_type": "stream",
     "text": [
      "[Stage 0:>                                                          (0 + 4) / 4]\r"
     ]
    },
    {
     "name": "stdout",
     "output_type": "stream",
     "text": [
      "New number of partitions: 15\n"
     ]
    },
    {
     "name": "stderr",
     "output_type": "stream",
     "text": [
      "[Stage 2:=============================>                             (2 + 2) / 4]\r"
     ]
    },
    {
     "name": "stdout",
     "output_type": "stream",
     "text": [
      "Number of partitions after join: 200\n"
     ]
    }
   ],
   "source": [
    "from pyspark.sql import SparkSession\n",
    "from pyspark.sql.functions import col\n",
    "\n",
    "# Создаем SparkSession\n",
    "spark = SparkSession.builder \\\n",
    "    .appName(\"Repartition Example\") \\\n",
    "    .getOrCreate()\n",
    "\n",
    "# Пример данных\n",
    "data = [(i, f\"Name_{i % 5}\") for i in range(100)]\n",
    "df = spark.createDataFrame(data, [\"id\", \"name\"])\n",
    "\n",
    "# Проверяем начальное количество разделов\n",
    "initial_partitions = df.rdd.getNumPartitions()\n",
    "print(f\"Initial number of partitions: {initial_partitions}\")\n",
    "\n",
    "# Применяем repartition для увеличения количества разделов до 15\n",
    "df_repartitioned = df.repartition(15)\n",
    "\n",
    "# Проверяем новое количество разделов\n",
    "new_partitions = df_repartitioned.rdd.getNumPartitions()\n",
    "print(f\"New number of partitions: {new_partitions}\")\n",
    "\n",
    "# Пример использования для улучшения выполнения join\n",
    "other_data = [(i, f\"OtherName_{i % 5}\") for i in range(100)]\n",
    "other_df = spark.createDataFrame(other_data, [\"id\", \"other_name\"])\n",
    "\n",
    "# Применяем repartition перед join\n",
    "df_repartitioned = df.repartition(10, \"id\")\n",
    "joined_df = df_repartitioned.join(other_df, \"id\")\n",
    "\n",
    "# Проверяем количество разделов после join\n",
    "joined_partitions = joined_df.rdd.getNumPartitions()\n",
    "print(f\"Number of partitions after join: {joined_partitions}\")\n",
    "\n",
    "# Останавливаем SparkSession\n",
    "spark.stop()"
   ]
  },
  {
   "cell_type": "code",
   "execution_count": null,
   "id": "2275e940-32f7-44c5-af33-66a2142415fd",
   "metadata": {},
   "outputs": [],
   "source": []
  }
 ],
 "metadata": {
  "kernelspec": {
   "display_name": "Python 3 (ipykernel)",
   "language": "python",
   "name": "python3"
  },
  "language_info": {
   "codemirror_mode": {
    "name": "ipython",
    "version": 3
   },
   "file_extension": ".py",
   "mimetype": "text/x-python",
   "name": "python",
   "nbconvert_exporter": "python",
   "pygments_lexer": "ipython3",
   "version": "3.11.9"
  }
 },
 "nbformat": 4,
 "nbformat_minor": 5
}

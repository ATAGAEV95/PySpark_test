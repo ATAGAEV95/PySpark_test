{
 "cells": [
  {
   "cell_type": "code",
   "execution_count": 1,
   "id": "3d04f261-2ec0-4fbb-879c-fa6778ad4b1a",
   "metadata": {},
   "outputs": [
    {
     "name": "stdout",
     "output_type": "stream",
     "text": [
      "+---+------+-----------+\n",
      "| id|  name| department|\n",
      "+---+------+-----------+\n",
      "|  1|Name_1|         HR|\n",
      "|  2|Name_2|    Finance|\n",
      "|  3|Name_3|Engineering|\n",
      "+---+------+-----------+\n",
      "\n"
     ]
    }
   ],
   "source": [
    "from pyspark.sql import SparkSession\n",
    "from pyspark.sql.functions import broadcast\n",
    "\n",
    "\n",
    "spark = SparkSession.builder \\\n",
    "    .appName(\"Broadcast Join Example\") \\\n",
    "    .config('spark.driver.memory', '4g') \\\n",
    "    .config('spark.executor.memory', '4g') \\\n",
    "    .getOrCreate()\n",
    "\n",
    "# Пример большого DataFrame\n",
    "large_data = [(i, f\"Name_{i % 5}\") for i in range(1000000)]\n",
    "large_df = spark.createDataFrame(large_data, [\"id\", \"name\"])\n",
    "# large_df = spark.createDataFrame(large_data, [\"id\", \"name\"]).cache()\n",
    "\n",
    "# Пример маленького DataFrame\n",
    "small_data = [(1, \"HR\"), (2, \"Finance\"), (3, \"Engineering\")]\n",
    "small_df = spark.createDataFrame(small_data, [\"id\", \"department\"])\n",
    "\n",
    "# Применение broadcast к маленькому DataFrame\n",
    "broadcast_small_df = broadcast(small_df)\n",
    "\n",
    "# Выполнение join операции\n",
    "joined_df = large_df.join(broadcast_small_df, \"id\")\n",
    "\n",
    "\n",
    "joined_df.show()\n",
    "\n",
    "\n",
    "spark.stop()"
   ]
  },
  {
   "cell_type": "code",
   "execution_count": null,
   "id": "3dea6745-0021-4731-9251-90f793b0943a",
   "metadata": {},
   "outputs": [],
   "source": []
  }
 ],
 "metadata": {
  "kernelspec": {
   "display_name": "Python 3 (ipykernel)",
   "language": "python",
   "name": "python3"
  },
  "language_info": {
   "codemirror_mode": {
    "name": "ipython",
    "version": 3
   },
   "file_extension": ".py",
   "mimetype": "text/x-python",
   "name": "python",
   "nbconvert_exporter": "python",
   "pygments_lexer": "ipython3",
   "version": "3.11.6"
  }
 },
 "nbformat": 4,
 "nbformat_minor": 5
}

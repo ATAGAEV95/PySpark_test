{
 "cells": [
  {
   "cell_type": "code",
   "execution_count": 11,
   "id": "64eab703-4ac1-447c-a884-08f3806f6ad0",
   "metadata": {},
   "outputs": [
    {
     "name": "stdout",
     "output_type": "stream",
     "text": [
      "Дешифрование завершено\n"
     ]
    }
   ],
   "source": [
    "import os\n",
    "from cryptography.fernet import Fernet\n",
    "\n",
    "# Директория ключа\n",
    "path_key = \"/home/jovyan/work/PySpark_test/General_task_№2/utils/\"\n",
    "\n",
    "# Открываем ключ\n",
    "with open(f\"{path_key}secret.key\", \"rb\") as key_file:\n",
    "    key = key_file.read()\n",
    "\n",
    "f = Fernet(key)\n",
    "\n",
    "# Дешифрование данных\n",
    "def decrypt(file_path):\n",
    "    with open(file_path, 'rb') as file:\n",
    "        encrypted_data = file.read()\n",
    "\n",
    "    try:\n",
    "        decrypted_data = f.decrypt(encrypted_data)\n",
    "    except cryptography.fernet.InvalidToken:\n",
    "        print(\"Недопустимый токен\")\n",
    "        return    \n",
    "    \n",
    "    with open(file_path, 'wb') as file:\n",
    "        file.write(decrypted_data)\n",
    "\n",
    "# Функция находит все файлы в директории и вызывает функцию дешифрования данных\n",
    "def crypt_directory(path):\n",
    "    for root, dirs, files in os.walk(path):\n",
    "        for file in files:\n",
    "            file_path = os.path.join(root, file)\n",
    "            decrypt(file_path)\n",
    "\n",
    "# Вызов функции для нужной директории\n",
    "path_to_decrypt = \"/home/jovyan/work/PySpark_test/config/more_csv\"\n",
    "crypt_directory(path_to_decrypt)\n",
    "\n",
    "print(\"Дешифрование завершено\")\n"
   ]
  },
  {
   "cell_type": "code",
   "execution_count": null,
   "id": "9048ba84-b89f-4fbe-bddc-ad368fbb99bd",
   "metadata": {},
   "outputs": [],
   "source": []
  }
 ],
 "metadata": {
  "kernelspec": {
   "display_name": "Python 3 (ipykernel)",
   "language": "python",
   "name": "python3"
  },
  "language_info": {
   "codemirror_mode": {
    "name": "ipython",
    "version": 3
   },
   "file_extension": ".py",
   "mimetype": "text/x-python",
   "name": "python",
   "nbconvert_exporter": "python",
   "pygments_lexer": "ipython3",
   "version": "3.11.6"
  }
 },
 "nbformat": 4,
 "nbformat_minor": 5
}

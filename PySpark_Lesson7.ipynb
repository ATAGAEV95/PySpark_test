{
 "cells": [
  {
   "cell_type": "code",
   "execution_count": 1,
   "id": "6460bf3a-47c2-41ff-a046-6e29a52bb699",
   "metadata": {},
   "outputs": [
    {
     "name": "stderr",
     "output_type": "stream",
     "text": [
      "Setting default log level to \"WARN\".\n",
      "To adjust logging level use sc.setLogLevel(newLevel). For SparkR, use setLogLevel(newLevel).\n",
      "24/07/25 11:14:50 WARN NativeCodeLoader: Unable to load native-hadoop library for your platform... using builtin-java classes where applicable\n",
      "                                                                                \r"
     ]
    },
    {
     "name": "stdout",
     "output_type": "stream",
     "text": [
      "+-----+---+-------------+\n",
      "| name|age|department_id|\n",
      "+-----+---+-------------+\n",
      "| John| 30|            1|\n",
      "|  Doe| 25|            2|\n",
      "| Jane| 35|            1|\n",
      "| Mark| 40|            2|\n",
      "|Smith| 23|            3|\n",
      "+-----+---+-------------+\n",
      "\n",
      "+---+---------------+\n",
      "| id|department_name|\n",
      "+---+---------------+\n",
      "|  1|             HR|\n",
      "|  2|        Finance|\n",
      "|  3|    Engineering|\n",
      "|  4|      Marketing|\n",
      "+---+---------------+\n",
      "\n"
     ]
    }
   ],
   "source": [
    "from pyspark.sql import SparkSession\n",
    "\n",
    "# Создание SparkSession\n",
    "spark = SparkSession.builder.appName(\"JoinExamples\").getOrCreate()\n",
    "\n",
    "# Пример данных для DataFrame people\n",
    "people_data = [\n",
    "    (\"John\", 30, 1),\n",
    "    (\"Doe\", 25, 2),\n",
    "    (\"Jane\", 35, 1),\n",
    "    (\"Mark\", 40, 2),\n",
    "    (\"Smith\", 23, 3)\n",
    "]\n",
    "people_columns = [\"name\", \"age\", \"department_id\"]\n",
    "people_df = spark.createDataFrame(data=people_data, schema=people_columns)\n",
    "\n",
    "# Пример данных для DataFrame departments\n",
    "departments_data = [\n",
    "    (1, \"HR\"),\n",
    "    (2, \"Finance\"),\n",
    "    (3, \"Engineering\"),\n",
    "    (4, \"Marketing\")\n",
    "]\n",
    "departments_columns = [\"id\", \"department_name\"]\n",
    "departments_df = spark.createDataFrame(data=departments_data, schema=departments_columns)\n",
    "\n",
    "# Показ данных\n",
    "people_df.show()\n",
    "departments_df.show()"
   ]
  },
  {
   "cell_type": "code",
   "execution_count": 2,
   "id": "278b85a9-fdf1-4514-be3e-95ef252f3cc7",
   "metadata": {},
   "outputs": [
    {
     "name": "stderr",
     "output_type": "stream",
     "text": [
      "[Stage 5:==============>                                            (1 + 3) / 4]\r"
     ]
    },
    {
     "name": "stdout",
     "output_type": "stream",
     "text": [
      "+-----+---+-------------+---+---------------+\n",
      "| name|age|department_id| id|department_name|\n",
      "+-----+---+-------------+---+---------------+\n",
      "| John| 30|            1|  1|             HR|\n",
      "| Jane| 35|            1|  1|             HR|\n",
      "|  Doe| 25|            2|  2|        Finance|\n",
      "| Mark| 40|            2|  2|        Finance|\n",
      "|Smith| 23|            3|  3|    Engineering|\n",
      "+-----+---+-------------+---+---------------+\n",
      "\n"
     ]
    },
    {
     "name": "stderr",
     "output_type": "stream",
     "text": [
      "                                                                                \r"
     ]
    }
   ],
   "source": [
    "# Внутреннее соединение\n",
    "inner_join_df = people_df.join(departments_df, people_df.department_id == departments_df.id, \"inner\")\n",
    "inner_join_df.show()"
   ]
  },
  {
   "cell_type": "code",
   "execution_count": 3,
   "id": "e76a3260-f367-4dc9-8683-43a43c67b2ce",
   "metadata": {},
   "outputs": [
    {
     "name": "stderr",
     "output_type": "stream",
     "text": [
      "[Stage 10:=============================>                            (2 + 2) / 4]\r"
     ]
    },
    {
     "name": "stdout",
     "output_type": "stream",
     "text": [
      "+-----+---+-------------+---+---------------+\n",
      "| name|age|department_id| id|department_name|\n",
      "+-----+---+-------------+---+---------------+\n",
      "| John| 30|            1|  1|             HR|\n",
      "|  Doe| 25|            2|  2|        Finance|\n",
      "| Jane| 35|            1|  1|             HR|\n",
      "|Smith| 23|            3|  3|    Engineering|\n",
      "| Mark| 40|            2|  2|        Finance|\n",
      "+-----+---+-------------+---+---------------+\n",
      "\n"
     ]
    },
    {
     "name": "stderr",
     "output_type": "stream",
     "text": [
      "                                                                                \r"
     ]
    }
   ],
   "source": [
    "# Левое внешнее соединение\n",
    "left_outer_join_df = people_df.join(departments_df, people_df.department_id == departments_df.id, \"left_outer\")\n",
    "left_outer_join_df.show()"
   ]
  },
  {
   "cell_type": "code",
   "execution_count": 4,
   "id": "9c593d89-0195-48d5-b3b4-7bcc02279890",
   "metadata": {},
   "outputs": [
    {
     "name": "stdout",
     "output_type": "stream",
     "text": [
      "+-----+----+-------------+---+---------------+\n",
      "| name| age|department_id| id|department_name|\n",
      "+-----+----+-------------+---+---------------+\n",
      "| Jane|  35|            1|  1|             HR|\n",
      "| John|  30|            1|  1|             HR|\n",
      "| Mark|  40|            2|  2|        Finance|\n",
      "|  Doe|  25|            2|  2|        Finance|\n",
      "|Smith|  23|            3|  3|    Engineering|\n",
      "| NULL|NULL|         NULL|  4|      Marketing|\n",
      "+-----+----+-------------+---+---------------+\n",
      "\n"
     ]
    }
   ],
   "source": [
    "# Правое внешнее соединение\n",
    "right_outer_join_df = people_df.join(departments_df, people_df.department_id == departments_df.id, \"right_outer\")\n",
    "right_outer_join_df.show()\n",
    "\n",
    "spark.stop()"
   ]
  },
  {
   "cell_type": "code",
   "execution_count": null,
   "id": "c6a6a69c-a36a-4a37-9214-e6ea53c74f2e",
   "metadata": {},
   "outputs": [],
   "source": []
  }
 ],
 "metadata": {
  "kernelspec": {
   "display_name": "Python 3 (ipykernel)",
   "language": "python",
   "name": "python3"
  },
  "language_info": {
   "codemirror_mode": {
    "name": "ipython",
    "version": 3
   },
   "file_extension": ".py",
   "mimetype": "text/x-python",
   "name": "python",
   "nbconvert_exporter": "python",
   "pygments_lexer": "ipython3",
   "version": "3.11.9"
  }
 },
 "nbformat": 4,
 "nbformat_minor": 5
}

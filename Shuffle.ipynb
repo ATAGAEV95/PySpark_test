{
 "cells": [
  {
   "cell_type": "code",
   "execution_count": null,
   "id": "f5afab9a-7be4-4b8b-abd0-b5d953d7d4d5",
   "metadata": {},
   "outputs": [
    {
     "name": "stderr",
     "output_type": "stream",
     "text": [
      "Setting default log level to \"WARN\".\n",
      "To adjust logging level use sc.setLogLevel(newLevel). For SparkR, use setLogLevel(newLevel).\n",
      "24/07/30 10:07:37 WARN NativeCodeLoader: Unable to load native-hadoop library for your platform... using builtin-java classes where applicable\n",
      "24/07/30 10:07:40 WARN Utils: Service 'SparkUI' could not bind on port 4040. Attempting port 4041.\n"
     ]
    },
    {
     "name": "stdout",
     "output_type": "stream",
     "text": [
      "Current shuffle partitions setting: 50\n"
     ]
    }
   ],
   "source": [
    "from pyspark.sql import SparkSession\n",
    "from pyspark.sql.functions import col\n",
    "\n",
    "# Создаем SparkSession и настраиваем количество партиций для shuffle\n",
    "spark = SparkSession.builder \\\n",
    "    .appName(\"Shuffle Example\") \\\n",
    "    .config(\"spark.sql.shuffle.partitions\", \"50\") \\\n",
    "    .getOrCreate()\n",
    "\n",
    "# Проверяем текущую настройку количества партиций для shuffle\n",
    "print(f\"Current shuffle partitions setting: {spark.conf.get('spark.sql.shuffle.partitions')}\")\n",
    "\n",
    "# Пример данных с большим объемом\n",
    "data1 = [(i, f\"Name_{i % 5}\") for i in range(1000000)]\n",
    "data2 = [(i, f\"Category_{i % 3}\") for i in range(1000000)]\n",
    "\n",
    "df1 = spark.createDataFrame(data1, [\"id\", \"name\"])\n",
    "df2 = spark.createDataFrame(data2, [\"id\", \"category\"])\n",
    "\n",
    "# Проверяем начальное количество партиций\n",
    "initial_partitions_df1 = df1.rdd.getNumPartitions()\n",
    "initial_partitions_df2 = df2.rdd.getNumPartitions()\n",
    "print(f\"Initial number of partitions in df1: {initial_partitions_df1}\")\n",
    "print(f\"Initial number of partitions in df2: {initial_partitions_df2}\")\n",
    "\n",
    "# Принудительно увеличиваем количество партиций перед join\n",
    "df1_repartitioned = df1.repartition(50)\n",
    "df2_repartitioned = df2.repartition(50)\n",
    "\n",
    "# Проверяем количество партиций после repartition\n",
    "repartitioned_partitions_df1 = df1_repartitioned.rdd.getNumPartitions()\n",
    "repartitioned_partitions_df2 = df2_repartitioned.rdd.getNumPartitions()\n",
    "print(f\"Number of partitions in df1 after repartition: {repartitioned_partitions_df1}\")\n",
    "print(f\"Number of partitions in df2 after repartition: {repartitioned_partitions_df2}\")\n",
    "\n",
    "# Выполняем операцию join, требующую shuffle\n",
    "joined_df = df1_repartitioned.join(df2_repartitioned, \"id\")\n",
    "\n",
    "# Проверяем количество партиций после join\n",
    "joined_partitions = joined_df.rdd.getNumPartitions()\n",
    "print(f\"Number of partitions after join: {joined_partitions}\")\n",
    "\n",
    "# Останавливаем SparkSession\n",
    "spark.stop()"
   ]
  },
  {
   "cell_type": "code",
   "execution_count": null,
   "id": "554b67dc-3212-4833-96d5-917b671f13e2",
   "metadata": {},
   "outputs": [],
   "source": []
  }
 ],
 "metadata": {
  "kernelspec": {
   "display_name": "Python 3 (ipykernel)",
   "language": "python",
   "name": "python3"
  },
  "language_info": {
   "codemirror_mode": {
    "name": "ipython",
    "version": 3
   },
   "file_extension": ".py",
   "mimetype": "text/x-python",
   "name": "python",
   "nbconvert_exporter": "python",
   "pygments_lexer": "ipython3",
   "version": "3.11.9"
  }
 },
 "nbformat": 4,
 "nbformat_minor": 5
}

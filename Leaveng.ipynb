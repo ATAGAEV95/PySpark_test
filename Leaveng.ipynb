{
 "cells": [
  {
   "cell_type": "code",
   "execution_count": 1,
   "id": "64627507-51af-466e-8fa7-4b7a841dc441",
   "metadata": {},
   "outputs": [],
   "source": [
    "from pyspark.sql import SparkSession\n",
    "from pyspark.sql.functions import col, split, regexp_replace, trim, length, when\n",
    "\n",
    "# Создание Spark сессии с указанием зависимости и параметрами памяти\n",
    "spark = SparkSession.builder \\\n",
    "    .appName(\"Excel to PySpark\") \\\n",
    "    .config(\"spark.jars.packages\", \"com.crealytics:spark-excel_2.12:0.14.0\") \\\n",
    "    .config(\"spark.driver.memory\", \"4g\") \\\n",
    "    .config(\"spark.executor.memory\", \"8g\") \\\n",
    "    .getOrCreate()"
   ]
  },
  {
   "cell_type": "code",
   "execution_count": 2,
   "id": "c2d80320-baf1-414e-a52f-c94efbe14710",
   "metadata": {},
   "outputs": [],
   "source": [
    "# Загрузка первого листа из Excel\n",
    "df = spark.read.format(\"com.crealytics.spark.excel\") \\\n",
    "    .option(\"header\", \"true\") \\\n",
    "    .option(\"dataAddress\", \"Данные!A3\") \\\n",
    "    .load(\"/home/jovyan/work/PySpark_test/config/Численность выбывших.xls\")"
   ]
  },
  {
   "cell_type": "code",
   "execution_count": 3,
   "id": "6c019e1d-8c0b-4d3f-b939-f74462291d4c",
   "metadata": {},
   "outputs": [],
   "source": [
    "df = df.withColumnRenamed(\"Классификатор объектов административно-территориального деления (ОКАТО)\", \"region\") \\\n",
    "       .withColumnRenamed(\"Классификатор стран мира \", \"world\") \\\n",
    "       .withColumnRenamed(\"Единица измерения\", \"unit_name\") \\\n",
    "       .withColumnRenamed(\"Период\", \"period_name\") \\\n",
    "       .withColumnRenamed(\"Потоки миграции\", \"migration\")"
   ]
  },
  {
   "cell_type": "code",
   "execution_count": 4,
   "id": "c118aa29-4ca1-401d-bb31-381c2090cafb",
   "metadata": {},
   "outputs": [],
   "source": [
    "# Обработка region\n",
    "df = df.withColumn(\"region\", trim(col(\"region\"))) \\\n",
    "       .withColumn(\"region_okato\", split(col(\"region\"), \" \").getItem(0)) \\\n",
    "       .withColumn(\"region\", split(col(\"region\"), \" \").getItem(1)) \\\n",
    "       .filter(length(col(\"region_okato\")) == 11)"
   ]
  },
  {
   "cell_type": "code",
   "execution_count": 5,
   "id": "881af087-021d-40b1-98af-5695ac73af1d",
   "metadata": {},
   "outputs": [],
   "source": [
    "# Обработка world\n",
    "df = df.withColumn(\"world\", trim(col(\"world\"))) \\\n",
    "       .withColumn(\"world_okato\", split(col(\"world\"), \" \").getItem(0)) \\\n",
    "       .withColumn(\"world\", split(col(\"world\"), \" \").getItem(1)) \\\n",
    "       .withColumn(\"world_okato\", when(split(col(\"world_okato\"), \":\").getItem(1).isNotNull(), split(col(\"world_okato\"), \":\").getItem(1)).otherwise(col(\"world_okato\")))"
   ]
  },
  {
   "cell_type": "code",
   "execution_count": 6,
   "id": "2cf71867-a452-4d76-8cd5-471d2e7ca04c",
   "metadata": {},
   "outputs": [],
   "source": [
    "# Обработка unit_name, period_name и migration\n",
    "df = df.withColumn(\"unit_name\", trim(regexp_replace(col(\"unit_name\"), \"\\\\d+\", \"\"))) \\\n",
    "       .withColumn(\"period_name\", trim(regexp_replace(col(\"period_name\"), \"\\\\d+\", \"\"))) \\\n",
    "       .withColumn(\"migration\", trim(regexp_replace(col(\"migration\"), \"\\\\d+\", \"\")))"
   ]
  },
  {
   "cell_type": "code",
   "execution_count": 7,
   "id": "4c15aada-838e-48af-ba0b-b13a166bd310",
   "metadata": {},
   "outputs": [],
   "source": [
    "months = ['январь', 'февраль', 'март', 'апрель', 'май', 'июнь', 'июль', 'август', 'сентябрь', 'октябрь', 'ноябрь', 'декабрь']\n",
    "df = df.filter(col(\"period_name\").isin(months))"
   ]
  },
  {
   "cell_type": "code",
   "execution_count": 8,
   "id": "919a9619-e19f-4e5f-a8d5-ae76fd7c39d1",
   "metadata": {},
   "outputs": [],
   "source": [
    "# Мелтинг данных\n",
    "cols_to_melt = [str(year) for year in range(1993, 2024)]\n",
    "cols_to_keep = [col for col in df.columns if col not in cols_to_melt]\n",
    "\n",
    "from pyspark.sql import functions as F\n",
    "\n",
    "df_melted = df.select(*cols_to_keep, *[F.expr('stack(31, ' + ', '.join([f\"'{year}', `{year}`\" for year in cols_to_melt]) + ') as (years, leaving)')])\n"
   ]
  },
  {
   "cell_type": "code",
   "execution_count": 9,
   "id": "dbe48c65-b817-4f59-8041-203e436b5e4b",
   "metadata": {},
   "outputs": [],
   "source": [
    "from pyspark.sql.functions import monotonically_increasing_id\n",
    "\n",
    "# Добавление индекса в DataFrame\n",
    "df_melted = df_melted.withColumn(\"index\", monotonically_increasing_id())\n",
    "\n",
    "# Подготовка итогового DataFrame\n",
    "df_melted = df_melted.withColumn(\"leaving\", when(col(\"leaving\").isNull(), 0).otherwise(col(\"leaving\"))) \\\n",
    "                     .withColumn(\"years\", col(\"years\").cast(\"int\")) \\\n",
    "                     .orderBy(\"index\", \"years\")\n",
    "\n",
    "df_melted = df_melted.select(\"region\", \"region_okato\", \"world\", \"world_okato\", \"unit_name\", \"period_name\", \"migration\", \"years\", \"leaving\")\n"
   ]
  },
  {
   "cell_type": "code",
   "execution_count": 10,
   "id": "2e2f7229-6426-4692-a674-b92e91bea0a8",
   "metadata": {},
   "outputs": [
    {
     "ename": "Py4JJavaError",
     "evalue": "An error occurred while calling o155.csv.\n: java.lang.OutOfMemoryError: Java heap space\n\tat java.base/java.nio.HeapByteBuffer.<init>(HeapByteBuffer.java:64)\n\tat java.base/java.nio.ByteBuffer.allocate(ByteBuffer.java:363)\n\tat shadeio.poi.poifs.filesystem.POIFSFileSystem.<init>(POIFSFileSystem.java:297)\n\tat shadeio.poi.ss.usermodel.WorkbookFactory.create(WorkbookFactory.java:252)\n\tat shadeio.poi.ss.usermodel.WorkbookFactory.create(WorkbookFactory.java:221)\n\tat com.crealytics.spark.excel.DefaultWorkbookReader.$anonfun$openWorkbook$1(WorkbookReader.scala:49)\n\tat com.crealytics.spark.excel.DefaultWorkbookReader$$Lambda$1142/0x00007f89dc8264a0.apply(Unknown Source)\n\tat scala.Option.fold(Option.scala:251)\n\tat com.crealytics.spark.excel.DefaultWorkbookReader.openWorkbook(WorkbookReader.scala:49)\n\tat com.crealytics.spark.excel.WorkbookReader.withWorkbook(WorkbookReader.scala:14)\n\tat com.crealytics.spark.excel.WorkbookReader.withWorkbook$(WorkbookReader.scala:13)\n\tat com.crealytics.spark.excel.DefaultWorkbookReader.withWorkbook(WorkbookReader.scala:45)\n\tat com.crealytics.spark.excel.ExcelRelation.buildScan(ExcelRelation.scala:64)\n\tat org.apache.spark.sql.execution.datasources.DataSourceStrategy$.$anonfun$apply$6(DataSourceStrategy.scala:340)\n\tat org.apache.spark.sql.execution.datasources.DataSourceStrategy$$$Lambda$1997/0x00007f89dcb5c280.apply(Unknown Source)\n\tat org.apache.spark.sql.execution.datasources.DataSourceStrategy$.$anonfun$pruneFilterProject$1(DataSourceStrategy.scala:367)\n\tat org.apache.spark.sql.execution.datasources.DataSourceStrategy$$$Lambda$1998/0x00007f89dcb5c840.apply(Unknown Source)\n\tat org.apache.spark.sql.execution.datasources.DataSourceStrategy$.pruneFilterProjectRaw(DataSourceStrategy.scala:446)\n\tat org.apache.spark.sql.execution.datasources.DataSourceStrategy$.pruneFilterProject(DataSourceStrategy.scala:366)\n\tat org.apache.spark.sql.execution.datasources.DataSourceStrategy$.apply(DataSourceStrategy.scala:340)\n\tat org.apache.spark.sql.catalyst.planning.QueryPlanner.$anonfun$plan$1(QueryPlanner.scala:63)\n\tat org.apache.spark.sql.catalyst.planning.QueryPlanner$$Lambda$1993/0x00007f89dcb458a0.apply(Unknown Source)\n\tat scala.collection.Iterator$$anon$11.nextCur(Iterator.scala:486)\n\tat scala.collection.Iterator$$anon$11.hasNext(Iterator.scala:492)\n\tat scala.collection.Iterator$$anon$11.hasNext(Iterator.scala:491)\n\tat org.apache.spark.sql.catalyst.planning.QueryPlanner.plan(QueryPlanner.scala:93)\n\tat org.apache.spark.sql.execution.SparkStrategies.plan(SparkStrategies.scala:70)\n\tat org.apache.spark.sql.catalyst.planning.QueryPlanner.$anonfun$plan$3(QueryPlanner.scala:78)\n\tat org.apache.spark.sql.catalyst.planning.QueryPlanner$$Lambda$1996/0x00007f89dcb50000.apply(Unknown Source)\n\tat scala.collection.TraversableOnce$folder$1.apply(TraversableOnce.scala:196)\n\tat scala.collection.TraversableOnce$folder$1.apply(TraversableOnce.scala:194)\n\tat scala.collection.Iterator.foreach(Iterator.scala:943)\n",
     "output_type": "error",
     "traceback": [
      "\u001b[0;31m---------------------------------------------------------------------------\u001b[0m",
      "\u001b[0;31mPy4JJavaError\u001b[0m                             Traceback (most recent call last)",
      "Cell \u001b[0;32mIn[10], line 3\u001b[0m\n\u001b[1;32m      1\u001b[0m \u001b[38;5;66;03m# Сохранение итогового DataFrame в CSV\u001b[39;00m\n\u001b[1;32m      2\u001b[0m output_path \u001b[38;5;241m=\u001b[39m \u001b[38;5;124m\"\u001b[39m\u001b[38;5;124m/home/jovyan/work/PySpark_test/config/result.csv\u001b[39m\u001b[38;5;124m\"\u001b[39m\n\u001b[0;32m----> 3\u001b[0m \u001b[43mdf_melted\u001b[49m\u001b[38;5;241;43m.\u001b[39;49m\u001b[43mcoalesce\u001b[49m\u001b[43m(\u001b[49m\u001b[38;5;241;43m1\u001b[39;49m\u001b[43m)\u001b[49m\u001b[38;5;241;43m.\u001b[39;49m\u001b[43mwrite\u001b[49m\u001b[38;5;241;43m.\u001b[39;49m\u001b[43mcsv\u001b[49m\u001b[43m(\u001b[49m\u001b[43moutput_path\u001b[49m\u001b[43m,\u001b[49m\u001b[43m \u001b[49m\u001b[43mheader\u001b[49m\u001b[38;5;241;43m=\u001b[39;49m\u001b[38;5;28;43;01mTrue\u001b[39;49;00m\u001b[43m,\u001b[49m\u001b[43m \u001b[49m\u001b[43mmode\u001b[49m\u001b[38;5;241;43m=\u001b[39;49m\u001b[38;5;124;43m\"\u001b[39;49m\u001b[38;5;124;43moverwrite\u001b[39;49m\u001b[38;5;124;43m\"\u001b[39;49m\u001b[43m)\u001b[49m\n",
      "File \u001b[0;32m/usr/local/spark/python/pyspark/sql/readwriter.py:1864\u001b[0m, in \u001b[0;36mDataFrameWriter.csv\u001b[0;34m(self, path, mode, compression, sep, quote, escape, header, nullValue, escapeQuotes, quoteAll, dateFormat, timestampFormat, ignoreLeadingWhiteSpace, ignoreTrailingWhiteSpace, charToEscapeQuoteEscaping, encoding, emptyValue, lineSep)\u001b[0m\n\u001b[1;32m   1845\u001b[0m \u001b[38;5;28mself\u001b[39m\u001b[38;5;241m.\u001b[39mmode(mode)\n\u001b[1;32m   1846\u001b[0m \u001b[38;5;28mself\u001b[39m\u001b[38;5;241m.\u001b[39m_set_opts(\n\u001b[1;32m   1847\u001b[0m     compression\u001b[38;5;241m=\u001b[39mcompression,\n\u001b[1;32m   1848\u001b[0m     sep\u001b[38;5;241m=\u001b[39msep,\n\u001b[0;32m   (...)\u001b[0m\n\u001b[1;32m   1862\u001b[0m     lineSep\u001b[38;5;241m=\u001b[39mlineSep,\n\u001b[1;32m   1863\u001b[0m )\n\u001b[0;32m-> 1864\u001b[0m \u001b[38;5;28;43mself\u001b[39;49m\u001b[38;5;241;43m.\u001b[39;49m\u001b[43m_jwrite\u001b[49m\u001b[38;5;241;43m.\u001b[39;49m\u001b[43mcsv\u001b[49m\u001b[43m(\u001b[49m\u001b[43mpath\u001b[49m\u001b[43m)\u001b[49m\n",
      "File \u001b[0;32m/usr/local/spark/python/lib/py4j-0.10.9.7-src.zip/py4j/java_gateway.py:1322\u001b[0m, in \u001b[0;36mJavaMember.__call__\u001b[0;34m(self, *args)\u001b[0m\n\u001b[1;32m   1316\u001b[0m command \u001b[38;5;241m=\u001b[39m proto\u001b[38;5;241m.\u001b[39mCALL_COMMAND_NAME \u001b[38;5;241m+\u001b[39m\\\n\u001b[1;32m   1317\u001b[0m     \u001b[38;5;28mself\u001b[39m\u001b[38;5;241m.\u001b[39mcommand_header \u001b[38;5;241m+\u001b[39m\\\n\u001b[1;32m   1318\u001b[0m     args_command \u001b[38;5;241m+\u001b[39m\\\n\u001b[1;32m   1319\u001b[0m     proto\u001b[38;5;241m.\u001b[39mEND_COMMAND_PART\n\u001b[1;32m   1321\u001b[0m answer \u001b[38;5;241m=\u001b[39m \u001b[38;5;28mself\u001b[39m\u001b[38;5;241m.\u001b[39mgateway_client\u001b[38;5;241m.\u001b[39msend_command(command)\n\u001b[0;32m-> 1322\u001b[0m return_value \u001b[38;5;241m=\u001b[39m \u001b[43mget_return_value\u001b[49m\u001b[43m(\u001b[49m\n\u001b[1;32m   1323\u001b[0m \u001b[43m    \u001b[49m\u001b[43manswer\u001b[49m\u001b[43m,\u001b[49m\u001b[43m \u001b[49m\u001b[38;5;28;43mself\u001b[39;49m\u001b[38;5;241;43m.\u001b[39;49m\u001b[43mgateway_client\u001b[49m\u001b[43m,\u001b[49m\u001b[43m \u001b[49m\u001b[38;5;28;43mself\u001b[39;49m\u001b[38;5;241;43m.\u001b[39;49m\u001b[43mtarget_id\u001b[49m\u001b[43m,\u001b[49m\u001b[43m \u001b[49m\u001b[38;5;28;43mself\u001b[39;49m\u001b[38;5;241;43m.\u001b[39;49m\u001b[43mname\u001b[49m\u001b[43m)\u001b[49m\n\u001b[1;32m   1325\u001b[0m \u001b[38;5;28;01mfor\u001b[39;00m temp_arg \u001b[38;5;129;01min\u001b[39;00m temp_args:\n\u001b[1;32m   1326\u001b[0m     \u001b[38;5;28;01mif\u001b[39;00m \u001b[38;5;28mhasattr\u001b[39m(temp_arg, \u001b[38;5;124m\"\u001b[39m\u001b[38;5;124m_detach\u001b[39m\u001b[38;5;124m\"\u001b[39m):\n",
      "File \u001b[0;32m/usr/local/spark/python/pyspark/errors/exceptions/captured.py:179\u001b[0m, in \u001b[0;36mcapture_sql_exception.<locals>.deco\u001b[0;34m(*a, **kw)\u001b[0m\n\u001b[1;32m    177\u001b[0m \u001b[38;5;28;01mdef\u001b[39;00m \u001b[38;5;21mdeco\u001b[39m(\u001b[38;5;241m*\u001b[39ma: Any, \u001b[38;5;241m*\u001b[39m\u001b[38;5;241m*\u001b[39mkw: Any) \u001b[38;5;241m-\u001b[39m\u001b[38;5;241m>\u001b[39m Any:\n\u001b[1;32m    178\u001b[0m     \u001b[38;5;28;01mtry\u001b[39;00m:\n\u001b[0;32m--> 179\u001b[0m         \u001b[38;5;28;01mreturn\u001b[39;00m \u001b[43mf\u001b[49m\u001b[43m(\u001b[49m\u001b[38;5;241;43m*\u001b[39;49m\u001b[43ma\u001b[49m\u001b[43m,\u001b[49m\u001b[43m \u001b[49m\u001b[38;5;241;43m*\u001b[39;49m\u001b[38;5;241;43m*\u001b[39;49m\u001b[43mkw\u001b[49m\u001b[43m)\u001b[49m\n\u001b[1;32m    180\u001b[0m     \u001b[38;5;28;01mexcept\u001b[39;00m Py4JJavaError \u001b[38;5;28;01mas\u001b[39;00m e:\n\u001b[1;32m    181\u001b[0m         converted \u001b[38;5;241m=\u001b[39m convert_exception(e\u001b[38;5;241m.\u001b[39mjava_exception)\n",
      "File \u001b[0;32m/usr/local/spark/python/lib/py4j-0.10.9.7-src.zip/py4j/protocol.py:326\u001b[0m, in \u001b[0;36mget_return_value\u001b[0;34m(answer, gateway_client, target_id, name)\u001b[0m\n\u001b[1;32m    324\u001b[0m value \u001b[38;5;241m=\u001b[39m OUTPUT_CONVERTER[\u001b[38;5;28mtype\u001b[39m](answer[\u001b[38;5;241m2\u001b[39m:], gateway_client)\n\u001b[1;32m    325\u001b[0m \u001b[38;5;28;01mif\u001b[39;00m answer[\u001b[38;5;241m1\u001b[39m] \u001b[38;5;241m==\u001b[39m REFERENCE_TYPE:\n\u001b[0;32m--> 326\u001b[0m     \u001b[38;5;28;01mraise\u001b[39;00m Py4JJavaError(\n\u001b[1;32m    327\u001b[0m         \u001b[38;5;124m\"\u001b[39m\u001b[38;5;124mAn error occurred while calling \u001b[39m\u001b[38;5;132;01m{0}\u001b[39;00m\u001b[38;5;132;01m{1}\u001b[39;00m\u001b[38;5;132;01m{2}\u001b[39;00m\u001b[38;5;124m.\u001b[39m\u001b[38;5;130;01m\\n\u001b[39;00m\u001b[38;5;124m\"\u001b[39m\u001b[38;5;241m.\u001b[39m\n\u001b[1;32m    328\u001b[0m         \u001b[38;5;28mformat\u001b[39m(target_id, \u001b[38;5;124m\"\u001b[39m\u001b[38;5;124m.\u001b[39m\u001b[38;5;124m\"\u001b[39m, name), value)\n\u001b[1;32m    329\u001b[0m \u001b[38;5;28;01melse\u001b[39;00m:\n\u001b[1;32m    330\u001b[0m     \u001b[38;5;28;01mraise\u001b[39;00m Py4JError(\n\u001b[1;32m    331\u001b[0m         \u001b[38;5;124m\"\u001b[39m\u001b[38;5;124mAn error occurred while calling \u001b[39m\u001b[38;5;132;01m{0}\u001b[39;00m\u001b[38;5;132;01m{1}\u001b[39;00m\u001b[38;5;132;01m{2}\u001b[39;00m\u001b[38;5;124m. Trace:\u001b[39m\u001b[38;5;130;01m\\n\u001b[39;00m\u001b[38;5;132;01m{3}\u001b[39;00m\u001b[38;5;130;01m\\n\u001b[39;00m\u001b[38;5;124m\"\u001b[39m\u001b[38;5;241m.\u001b[39m\n\u001b[1;32m    332\u001b[0m         \u001b[38;5;28mformat\u001b[39m(target_id, \u001b[38;5;124m\"\u001b[39m\u001b[38;5;124m.\u001b[39m\u001b[38;5;124m\"\u001b[39m, name, value))\n",
      "\u001b[0;31mPy4JJavaError\u001b[0m: An error occurred while calling o155.csv.\n: java.lang.OutOfMemoryError: Java heap space\n\tat java.base/java.nio.HeapByteBuffer.<init>(HeapByteBuffer.java:64)\n\tat java.base/java.nio.ByteBuffer.allocate(ByteBuffer.java:363)\n\tat shadeio.poi.poifs.filesystem.POIFSFileSystem.<init>(POIFSFileSystem.java:297)\n\tat shadeio.poi.ss.usermodel.WorkbookFactory.create(WorkbookFactory.java:252)\n\tat shadeio.poi.ss.usermodel.WorkbookFactory.create(WorkbookFactory.java:221)\n\tat com.crealytics.spark.excel.DefaultWorkbookReader.$anonfun$openWorkbook$1(WorkbookReader.scala:49)\n\tat com.crealytics.spark.excel.DefaultWorkbookReader$$Lambda$1142/0x00007f89dc8264a0.apply(Unknown Source)\n\tat scala.Option.fold(Option.scala:251)\n\tat com.crealytics.spark.excel.DefaultWorkbookReader.openWorkbook(WorkbookReader.scala:49)\n\tat com.crealytics.spark.excel.WorkbookReader.withWorkbook(WorkbookReader.scala:14)\n\tat com.crealytics.spark.excel.WorkbookReader.withWorkbook$(WorkbookReader.scala:13)\n\tat com.crealytics.spark.excel.DefaultWorkbookReader.withWorkbook(WorkbookReader.scala:45)\n\tat com.crealytics.spark.excel.ExcelRelation.buildScan(ExcelRelation.scala:64)\n\tat org.apache.spark.sql.execution.datasources.DataSourceStrategy$.$anonfun$apply$6(DataSourceStrategy.scala:340)\n\tat org.apache.spark.sql.execution.datasources.DataSourceStrategy$$$Lambda$1997/0x00007f89dcb5c280.apply(Unknown Source)\n\tat org.apache.spark.sql.execution.datasources.DataSourceStrategy$.$anonfun$pruneFilterProject$1(DataSourceStrategy.scala:367)\n\tat org.apache.spark.sql.execution.datasources.DataSourceStrategy$$$Lambda$1998/0x00007f89dcb5c840.apply(Unknown Source)\n\tat org.apache.spark.sql.execution.datasources.DataSourceStrategy$.pruneFilterProjectRaw(DataSourceStrategy.scala:446)\n\tat org.apache.spark.sql.execution.datasources.DataSourceStrategy$.pruneFilterProject(DataSourceStrategy.scala:366)\n\tat org.apache.spark.sql.execution.datasources.DataSourceStrategy$.apply(DataSourceStrategy.scala:340)\n\tat org.apache.spark.sql.catalyst.planning.QueryPlanner.$anonfun$plan$1(QueryPlanner.scala:63)\n\tat org.apache.spark.sql.catalyst.planning.QueryPlanner$$Lambda$1993/0x00007f89dcb458a0.apply(Unknown Source)\n\tat scala.collection.Iterator$$anon$11.nextCur(Iterator.scala:486)\n\tat scala.collection.Iterator$$anon$11.hasNext(Iterator.scala:492)\n\tat scala.collection.Iterator$$anon$11.hasNext(Iterator.scala:491)\n\tat org.apache.spark.sql.catalyst.planning.QueryPlanner.plan(QueryPlanner.scala:93)\n\tat org.apache.spark.sql.execution.SparkStrategies.plan(SparkStrategies.scala:70)\n\tat org.apache.spark.sql.catalyst.planning.QueryPlanner.$anonfun$plan$3(QueryPlanner.scala:78)\n\tat org.apache.spark.sql.catalyst.planning.QueryPlanner$$Lambda$1996/0x00007f89dcb50000.apply(Unknown Source)\n\tat scala.collection.TraversableOnce$folder$1.apply(TraversableOnce.scala:196)\n\tat scala.collection.TraversableOnce$folder$1.apply(TraversableOnce.scala:194)\n\tat scala.collection.Iterator.foreach(Iterator.scala:943)\n"
     ]
    }
   ],
   "source": [
    "# Сохранение итогового DataFrame в CSV\n",
    "output_path = \"/home/jovyan/work/PySpark_test/config/result.csv\"\n",
    "df_melted.coalesce(1).write.csv(output_path, header=True, mode=\"overwrite\")"
   ]
  },
  {
   "cell_type": "code",
   "execution_count": 11,
   "id": "b261806d-7fbc-4128-b6f2-b5ed3e9d9ecf",
   "metadata": {},
   "outputs": [],
   "source": [
    "# Закрытие Spark сессии\n",
    "spark.stop()"
   ]
  },
  {
   "cell_type": "code",
   "execution_count": null,
   "id": "41864949-9dc6-4ee1-ab92-0e4d23c074d3",
   "metadata": {},
   "outputs": [],
   "source": []
  }
 ],
 "metadata": {
  "kernelspec": {
   "display_name": "Python 3 (ipykernel)",
   "language": "python",
   "name": "python3"
  },
  "language_info": {
   "codemirror_mode": {
    "name": "ipython",
    "version": 3
   },
   "file_extension": ".py",
   "mimetype": "text/x-python",
   "name": "python",
   "nbconvert_exporter": "python",
   "pygments_lexer": "ipython3",
   "version": "3.11.6"
  }
 },
 "nbformat": 4,
 "nbformat_minor": 5
}

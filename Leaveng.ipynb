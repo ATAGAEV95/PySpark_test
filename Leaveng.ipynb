{
 "cells": [
  {
   "cell_type": "code",
   "execution_count": 1,
   "id": "64627507-51af-466e-8fa7-4b7a841dc441",
   "metadata": {},
   "outputs": [
    {
     "name": "stdout",
     "output_type": "stream",
     "text": [
      ":: loading settings :: url = jar:file:/opt/conda/lib/python3.11/site-packages/pyspark/jars/ivy-2.5.1.jar!/org/apache/ivy/core/settings/ivysettings.xml\n"
     ]
    },
    {
     "name": "stderr",
     "output_type": "stream",
     "text": [
      "Ivy Default Cache set to: /home/jovyan/.ivy2/cache\n",
      "The jars for the packages stored in: /home/jovyan/.ivy2/jars\n",
      "com.crealytics#spark-excel_2.12 added as a dependency\n",
      ":: resolving dependencies :: org.apache.spark#spark-submit-parent-a99afd07-45b7-4d99-919d-f2cd25eb8dc5;1.0\n",
      "\tconfs: [default]\n",
      "\tfound com.crealytics#spark-excel_2.12;0.14.0 in central\n",
      "\tfound org.apache.poi#poi;4.1.2 in central\n",
      "\tfound commons-codec#commons-codec;1.13 in central\n",
      "\tfound org.apache.commons#commons-collections4;4.4 in central\n",
      "\tfound org.apache.commons#commons-math3;3.6.1 in central\n",
      "\tfound com.zaxxer#SparseBitSet;1.2 in central\n",
      "\tfound org.apache.poi#poi-ooxml;4.1.2 in central\n",
      "\tfound org.apache.poi#poi-ooxml-schemas;4.1.2 in central\n",
      "\tfound org.apache.xmlbeans#xmlbeans;3.1.0 in central\n",
      "\tfound com.github.virtuald#curvesapi;1.06 in central\n",
      "\tfound com.norbitltd#spoiwo_2.12;1.8.0 in central\n",
      "\tfound org.scala-lang.modules#scala-xml_2.12;1.3.0 in central\n",
      "\tfound com.github.pjfanning#excel-streaming-reader;2.3.6 in central\n",
      "\tfound com.github.pjfanning#poi-shared-strings;1.0.4 in central\n",
      "\tfound com.h2database#h2;1.4.200 in central\n",
      "\tfound org.apache.commons#commons-text;1.8 in central\n",
      "\tfound org.apache.commons#commons-lang3;3.9 in central\n",
      "\tfound xml-apis#xml-apis;1.4.01 in central\n",
      "\tfound org.slf4j#slf4j-api;1.7.30 in central\n",
      "\tfound org.apache.commons#commons-compress;1.21 in central\n",
      ":: resolution report :: resolve 1288ms :: artifacts dl 49ms\n",
      "\t:: modules in use:\n",
      "\tcom.crealytics#spark-excel_2.12;0.14.0 from central in [default]\n",
      "\tcom.github.pjfanning#excel-streaming-reader;2.3.6 from central in [default]\n",
      "\tcom.github.pjfanning#poi-shared-strings;1.0.4 from central in [default]\n",
      "\tcom.github.virtuald#curvesapi;1.06 from central in [default]\n",
      "\tcom.h2database#h2;1.4.200 from central in [default]\n",
      "\tcom.norbitltd#spoiwo_2.12;1.8.0 from central in [default]\n",
      "\tcom.zaxxer#SparseBitSet;1.2 from central in [default]\n",
      "\tcommons-codec#commons-codec;1.13 from central in [default]\n",
      "\torg.apache.commons#commons-collections4;4.4 from central in [default]\n",
      "\torg.apache.commons#commons-compress;1.21 from central in [default]\n",
      "\torg.apache.commons#commons-lang3;3.9 from central in [default]\n",
      "\torg.apache.commons#commons-math3;3.6.1 from central in [default]\n",
      "\torg.apache.commons#commons-text;1.8 from central in [default]\n",
      "\torg.apache.poi#poi;4.1.2 from central in [default]\n",
      "\torg.apache.poi#poi-ooxml;4.1.2 from central in [default]\n",
      "\torg.apache.poi#poi-ooxml-schemas;4.1.2 from central in [default]\n",
      "\torg.apache.xmlbeans#xmlbeans;3.1.0 from central in [default]\n",
      "\torg.scala-lang.modules#scala-xml_2.12;1.3.0 from central in [default]\n",
      "\torg.slf4j#slf4j-api;1.7.30 from central in [default]\n",
      "\txml-apis#xml-apis;1.4.01 from central in [default]\n",
      "\t:: evicted modules:\n",
      "\torg.apache.commons#commons-compress;1.19 by [org.apache.commons#commons-compress;1.21] in [default]\n",
      "\t---------------------------------------------------------------------\n",
      "\t|                  |            modules            ||   artifacts   |\n",
      "\t|       conf       | number| search|dwnlded|evicted|| number|dwnlded|\n",
      "\t---------------------------------------------------------------------\n",
      "\t|      default     |   21  |   0   |   0   |   1   ||   20  |   0   |\n",
      "\t---------------------------------------------------------------------\n",
      ":: retrieving :: org.apache.spark#spark-submit-parent-a99afd07-45b7-4d99-919d-f2cd25eb8dc5\n",
      "\tconfs: [default]\n",
      "\t0 artifacts copied, 20 already retrieved (0kB/25ms)\n",
      "24/07/29 14:27:54 WARN NativeCodeLoader: Unable to load native-hadoop library for your platform... using builtin-java classes where applicable\n",
      "Setting default log level to \"WARN\".\n",
      "To adjust logging level use sc.setLogLevel(newLevel). For SparkR, use setLogLevel(newLevel).\n"
     ]
    },
    {
     "name": "stdout",
     "output_type": "stream",
     "text": [
      "Активные Spark сессии: http://7476e7a1d8f9:4040\n"
     ]
    }
   ],
   "source": [
    "from pyspark.sql import SparkSession\n",
    "from pyspark.sql.functions import col, split, regexp_replace, trim, length, when\n",
    "\n",
    "# Создание Spark сессии с указанием зависимости и параметрами памяти\n",
    "spark = SparkSession.builder \\\n",
    "    .appName(\"Excel to PySpark\") \\\n",
    "    .config(\"spark.jars.packages\", \"com.crealytics:spark-excel_2.12:0.14.0\") \\\n",
    "    .config(\"spark.driver.memory\", \"2g\") \\\n",
    "    .config(\"spark.executor.memory\", \"4g\") \\\n",
    "    .getOrCreate()\n",
    "\n",
    "print(\"Активные Spark сессии:\", spark.sparkContext.uiWebUrl)"
   ]
  },
  {
   "cell_type": "code",
   "execution_count": 2,
   "id": "c2d80320-baf1-414e-a52f-c94efbe14710",
   "metadata": {},
   "outputs": [],
   "source": [
    "# Загрузка первого листа из Excel\n",
    "df = spark.read.format(\"com.crealytics.spark.excel\") \\\n",
    "    .option(\"header\", \"true\") \\\n",
    "    .option(\"dataAddress\", \"Данные!A3\") \\\n",
    "    .load(\"/home/jovyan/PySpark_test/config/Численность выбывших.xls\")"
   ]
  },
  {
   "cell_type": "code",
   "execution_count": 3,
   "id": "6c019e1d-8c0b-4d3f-b939-f74462291d4c",
   "metadata": {},
   "outputs": [],
   "source": [
    "df = df.withColumnRenamed(\"Классификатор объектов административно-территориального деления (ОКАТО)\", \"region\") \\\n",
    "       .withColumnRenamed(\"Классификатор стран мира \", \"world\") \\\n",
    "       .withColumnRenamed(\"Единица измерения\", \"unit_name\") \\\n",
    "       .withColumnRenamed(\"Период\", \"period_name\") \\\n",
    "       .withColumnRenamed(\"Потоки миграции\", \"migration\")\n",
    "\n",
    "# Обработка region\n",
    "df = df.withColumn(\"region\", trim(col(\"region\"))) \\\n",
    "       .withColumn(\"region_okato\", split(col(\"region\"), \" \").getItem(0)) \\\n",
    "       .withColumn(\"region\", split(col(\"region\"), \" \").getItem(1)) \\\n",
    "       .filter(length(col(\"region_okato\")) == 11)\n",
    "\n",
    "# Обработка world\n",
    "df = df.withColumn(\"world\", trim(col(\"world\"))) \\\n",
    "       .withColumn(\"world_okato\", split(col(\"world\"), \" \").getItem(0)) \\\n",
    "       .withColumn(\"world\", split(col(\"world\"), \" \").getItem(1)) \\\n",
    "       .withColumn(\"world_okato\", when(split(col(\"world_okato\"), \":\").getItem(1).isNotNull(), split(col(\"world_okato\"), \":\").getItem(1)).otherwise(col(\"world_okato\")))\n",
    "\n",
    "# Обработка unit_name, period_name и migration\n",
    "df = df.withColumn(\"unit_name\", trim(regexp_replace(col(\"unit_name\"), \"\\\\d+\", \"\"))) \\\n",
    "       .withColumn(\"period_name\", trim(regexp_replace(col(\"period_name\"), \"\\\\d+\", \"\"))) \\\n",
    "       .withColumn(\"migration\", trim(regexp_replace(col(\"migration\"), \"\\\\d+\", \"\")))\n",
    "\n",
    "months = ['январь', 'февраль', 'март', 'апрель', 'май', 'июнь', 'июль', 'август', 'сентябрь', 'октябрь', 'ноябрь', 'декабрь']\n",
    "df = df.filter(col(\"period_name\").isin(months))\n",
    "\n",
    "# Мелтинг данных\n",
    "cols_to_melt = [str(year) for year in range(1993, 2024)]\n",
    "cols_to_keep = [col for col in df.columns if col not in cols_to_melt]\n",
    "\n",
    "from pyspark.sql import functions as F\n",
    "\n",
    "df_melted = df.select(*cols_to_keep, *[F.expr('stack(31, ' + ', '.join([f\"'{year}', `{year}`\" for year in cols_to_melt]) + ') as (years, leaving)')])\n",
    "\n",
    "from pyspark.sql.functions import monotonically_increasing_id\n",
    "\n",
    "# Добавление индекса в DataFrame\n",
    "df_melted = df_melted.withColumn(\"index\", monotonically_increasing_id())\n",
    "\n",
    "# Подготовка итогового DataFrame\n",
    "df_melted = df_melted.withColumn(\"leaving\", when(col(\"leaving\").isNull(), 0).otherwise(col(\"leaving\"))) \\\n",
    "                     .withColumn(\"years\", col(\"years\").cast(\"int\")) \\\n",
    "                     .orderBy(\"index\", \"years\")\n",
    "\n",
    "df_melted = df_melted.select(\"region\", \"region_okato\", \"world\", \"world_okato\", \"unit_name\", \"period_name\", \"migration\", \"years\", \"leaving\")"
   ]
  },
  {
   "cell_type": "code",
   "execution_count": 4,
   "id": "2e2f7229-6426-4692-a674-b92e91bea0a8",
   "metadata": {},
   "outputs": [
    {
     "name": "stderr",
     "output_type": "stream",
     "text": [
      "24/07/29 14:30:29 WARN SparkStringUtils: Truncated the string representation of a plan since it was too large. This behavior can be adjusted by setting 'spark.sql.debug.maxToStringFields'.\n",
      "24/07/29 14:30:33 WARN TaskSetManager: Stage 0 contains a task of very large size (3324 KiB). The maximum recommended task size is 1000 KiB.\n",
      "24/07/29 14:30:42 WARN TaskSetManager: Stage 1 contains a task of very large size (3324 KiB). The maximum recommended task size is 1000 KiB.\n",
      "                                                                                \r"
     ]
    }
   ],
   "source": [
    "# Сохранение итогового DataFrame в CSV\n",
    "output_path = \"/home/jovyan/PySpark_test/config/result.csv\"\n",
    "df_melted.coalesce(1).write.csv(output_path, header=True, mode=\"overwrite\")"
   ]
  },
  {
   "cell_type": "code",
   "execution_count": 5,
   "id": "b261806d-7fbc-4128-b6f2-b5ed3e9d9ecf",
   "metadata": {},
   "outputs": [],
   "source": [
    "# Закрытие Spark сессии\n",
    "spark.stop()"
   ]
  },
  {
   "cell_type": "code",
   "execution_count": null,
   "id": "41864949-9dc6-4ee1-ab92-0e4d23c074d3",
   "metadata": {},
   "outputs": [],
   "source": []
  }
 ],
 "metadata": {
  "kernelspec": {
   "display_name": "Python 3 (ipykernel)",
   "language": "python",
   "name": "python3"
  },
  "language_info": {
   "codemirror_mode": {
    "name": "ipython",
    "version": 3
   },
   "file_extension": ".py",
   "mimetype": "text/x-python",
   "name": "python",
   "nbconvert_exporter": "python",
   "pygments_lexer": "ipython3",
   "version": "3.11.9"
  }
 },
 "nbformat": 4,
 "nbformat_minor": 5
}

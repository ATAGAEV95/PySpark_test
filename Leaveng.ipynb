{
 "cells": [
  {
   "cell_type": "code",
   "execution_count": 1,
   "id": "64627507-51af-466e-8fa7-4b7a841dc441",
   "metadata": {},
   "outputs": [
    {
     "name": "stdout",
     "output_type": "stream",
     "text": [
      "Активные Spark сессии: http://b35f097c8a09:4040\n"
     ]
    }
   ],
   "source": [
    "from pyspark.sql import SparkSession\n",
    "from pyspark.sql.functions import col, split, regexp_replace, trim, length, when\n",
    "\n",
    "# Создание Spark сессии с указанием зависимости и параметрами памяти\n",
    "spark = SparkSession.builder \\\n",
    "    .appName(\"Excel to PySpark\") \\\n",
    "    .config(\"spark.jars.packages\", \"com.crealytics:spark-excel_2.12:0.14.0\") \\\n",
    "    .config(\"spark.driver.memory\", \"2g\") \\\n",
    "    .config(\"spark.executor.memory\", \"4g\") \\\n",
    "    .getOrCreate()\n",
    "\n",
    "print(\"Активные Spark сессии:\", spark.sparkContext.uiWebUrl)"
   ]
  },
  {
   "cell_type": "code",
   "execution_count": 2,
   "id": "c2d80320-baf1-414e-a52f-c94efbe14710",
   "metadata": {},
   "outputs": [],
   "source": [
    "# Загрузка первого листа из Excel\n",
    "df = spark.read.format(\"com.crealytics.spark.excel\") \\\n",
    "    .option(\"header\", \"true\") \\\n",
    "    .option(\"dataAddress\", \"Данные!A3\") \\\n",
    "    .load(\"/home/jovyan/PySpark_test/config/Численность выбывших.xls\")"
   ]
  },
  {
   "cell_type": "code",
   "execution_count": 3,
   "id": "6c019e1d-8c0b-4d3f-b939-f74462291d4c",
   "metadata": {},
   "outputs": [],
   "source": [
    "df = df.withColumnRenamed(\"Классификатор объектов административно-территориального деления (ОКАТО)\", \"region\") \\\n",
    "       .withColumnRenamed(\"Классификатор стран мира \", \"world\") \\\n",
    "       .withColumnRenamed(\"Единица измерения\", \"unit_name\") \\\n",
    "       .withColumnRenamed(\"Период\", \"period_name\") \\\n",
    "       .withColumnRenamed(\"Потоки миграции\", \"migration\")\n",
    "\n",
    "# Обработка region\n",
    "df = df.withColumn(\"region\", trim(col(\"region\"))) \\\n",
    "       .withColumn(\"region_okato\", split(col(\"region\"), \" \").getItem(0)) \\\n",
    "       .withColumn(\"region\", split(col(\"region\"), \" \").getItem(1)) \\\n",
    "       .filter(length(col(\"region_okato\")) == 11)\n",
    "\n",
    "# Обработка world\n",
    "df = df.withColumn(\"world\", trim(col(\"world\"))) \\\n",
    "       .withColumn(\"world_okato\", split(col(\"world\"), \" \").getItem(0)) \\\n",
    "       .withColumn(\"world\", split(col(\"world\"), \" \").getItem(1)) \\\n",
    "       .withColumn(\"world_okato\", when(split(col(\"world_okato\"), \":\").getItem(1).isNotNull(), split(col(\"world_okato\"), \":\").getItem(1)).otherwise(col(\"world_okato\")))\n",
    "\n",
    "# Обработка unit_name, period_name и migration\n",
    "df = df.withColumn(\"unit_name\", trim(regexp_replace(col(\"unit_name\"), \"\\\\d+\", \"\"))) \\\n",
    "       .withColumn(\"period_name\", trim(regexp_replace(col(\"period_name\"), \"\\\\d+\", \"\"))) \\\n",
    "       .withColumn(\"migration\", trim(regexp_replace(col(\"migration\"), \"\\\\d+\", \"\")))\n",
    "\n",
    "months = ['январь', 'февраль', 'март', 'апрель', 'май', 'июнь', 'июль', 'август', 'сентябрь', 'октябрь', 'ноябрь', 'декабрь']\n",
    "df = df.filter(col(\"period_name\").isin(months))\n",
    "\n",
    "# Мелтинг данных\n",
    "cols_to_melt = [str(year) for year in range(1993, 2024)]\n",
    "cols_to_keep = [col for col in df.columns if col not in cols_to_melt]\n",
    "\n",
    "from pyspark.sql import functions as F\n",
    "\n",
    "df_melted = df.select(*cols_to_keep, *[F.expr('stack(31, ' + ', '.join([f\"'{year}', `{year}`\" for year in cols_to_melt]) + ') as (years, leaving)')])\n",
    "\n",
    "from pyspark.sql.functions import monotonically_increasing_id\n",
    "\n",
    "# Добавление индекса в DataFrame\n",
    "df_melted = df_melted.withColumn(\"index\", monotonically_increasing_id())\n",
    "\n",
    "# Подготовка итогового DataFrame\n",
    "df_melted = df_melted.withColumn(\"leaving\", when(col(\"leaving\") == \"\", 0).otherwise(col(\"leaving\"))) \\\n",
    "                     .withColumn(\"years\", col(\"years\").cast(\"int\")) \\\n",
    "                     .orderBy(\"index\", \"years\")\n",
    "\n",
    "df_melted = df_melted.select(\"region\", \"region_okato\", \"world\", \"world_okato\", \"unit_name\", \"period_name\", \"migration\", \"years\", \"leaving\")"
   ]
  },
  {
   "cell_type": "code",
   "execution_count": 4,
   "id": "2e2f7229-6426-4692-a674-b92e91bea0a8",
   "metadata": {},
   "outputs": [
    {
     "name": "stderr",
     "output_type": "stream",
     "text": [
      "24/07/29 14:30:29 WARN SparkStringUtils: Truncated the string representation of a plan since it was too large. This behavior can be adjusted by setting 'spark.sql.debug.maxToStringFields'.\n",
      "24/07/29 14:30:33 WARN TaskSetManager: Stage 0 contains a task of very large size (3324 KiB). The maximum recommended task size is 1000 KiB.\n",
      "24/07/29 14:30:42 WARN TaskSetManager: Stage 1 contains a task of very large size (3324 KiB). The maximum recommended task size is 1000 KiB.\n",
      "                                                                                \r"
     ]
    }
   ],
   "source": [
    "# Сохранение итогового DataFrame в CSV\n",
    "output_path = \"/home/jovyan/PySpark_test/config/result.csv\"\n",
    "df_melted.coalesce(1).write.csv(output_path, header=True, mode=\"overwrite\")"
   ]
  },
  {
   "cell_type": "code",
   "execution_count": 3,
   "id": "b261806d-7fbc-4128-b6f2-b5ed3e9d9ecf",
   "metadata": {},
   "outputs": [],
   "source": [
    "# Закрытие Spark сессии\n",
    "spark.stop()"
   ]
  }
 ],
 "metadata": {
  "kernelspec": {
   "display_name": "Python 3 (ipykernel)",
   "language": "python",
   "name": "python3"
  },
  "language_info": {
   "codemirror_mode": {
    "name": "ipython",
    "version": 3
   },
   "file_extension": ".py",
   "mimetype": "text/x-python",
   "name": "python",
   "nbconvert_exporter": "python",
   "pygments_lexer": "ipython3",
   "version": "3.11.6"
  }
 },
 "nbformat": 4,
 "nbformat_minor": 5
}

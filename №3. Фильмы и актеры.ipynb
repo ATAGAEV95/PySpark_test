{
 "cells": [
  {
   "cell_type": "code",
   "execution_count": 11,
   "id": "c9be49c4-60a5-4f33-86d7-782c411ec72f",
   "metadata": {},
   "outputs": [],
   "source": [
    "from pyspark.sql import SparkSession\n",
    "from pyspark.sql.functions import mean, to_date, sum, col, year, month, avg\n",
    "\n",
    "spark = SparkSession.builder.appName(\"Weather\").getOrCreate()\n",
    "\n",
    "df_actors = spark.read.csv(\"/home/jovyan/work/PySpark_test/config/actors.csv\", header=True, inferSchema=True)\n",
    "df_movies = spark.read.csv(\"/home/jovyan/work/PySpark_test/config/movies.csv\", header=True, inferSchema=True)\n",
    "df_movie_actors = spark.read.csv(\"/home/jovyan/work/PySpark_test/config/movie_actors.csv\", header=True, inferSchema=True)\n",
    "\n",
    "df_actors.createOrReplaceTempView(\"actors\")\n",
    "df_movies.createOrReplaceTempView(\"movies\")\n",
    "df_movie_actors.createOrReplaceTempView(\"movie_actors\")\n",
    "\n",
    "top5_genre = spark.sql(\"\"\"\n",
    "SELECT genre, COUNT(title) AS num_movies\n",
    "FROM movies\n",
    "GROUP BY genre\n",
    "ORDER BY num_movies DESC\n",
    "\"\"\")\n",
    "\n",
    "top_actor = spark.sql(\"\"\"\n",
    "SELECT a.name, COUNT(ma.movie_id) AS num_movies\n",
    "FROM actors a\n",
    "JOIN movie_actors ma ON\n",
    "        a.actor_id = ma.actor_id\n",
    "GROUP BY a.name\n",
    "ORDER BY num_movies DESC\n",
    "LIMIT 1\n",
    "\"\"\")\n",
    "\n",
    "avg_genre_budget = spark.sql(\"\"\"\n",
    "SELECT genre, AVG(budget) AS avg_budget\n",
    "FROM movies\n",
    "GROUP BY genre\n",
    "\"\"\")\n",
    "\n",
    "more_one_actor = spark.sql(\"\"\"\n",
    "SELECT m.title, a.country, COUNT(name) AS num_actors\n",
    "FROM movies m\n",
    "JOIN movie_actors ma ON\n",
    "    m.movie_id = ma.movie_id\n",
    "JOIN actors a ON\n",
    "    a.actor_id = ma.actor_id\n",
    "GROUP BY m.title, a.country\n",
    "HAVING num_actors > 1\n",
    "\"\"\")\n",
    "\n",
    "# top5_genre.show()\n",
    "# top_actor.show()\n",
    "# avg_genre_budget.show()\n",
    "# more_one_actor.show()\n",
    "# df_movies.show()\n",
    "# df_movie_actors.show()\n",
    "spark.stop()"
   ]
  },
  {
   "cell_type": "code",
   "execution_count": null,
   "id": "033ae16a-6e20-4342-a2b3-e6a3cf2edd6e",
   "metadata": {},
   "outputs": [],
   "source": []
  }
 ],
 "metadata": {
  "kernelspec": {
   "display_name": "Python 3 (ipykernel)",
   "language": "python",
   "name": "python3"
  },
  "language_info": {
   "codemirror_mode": {
    "name": "ipython",
    "version": 3
   },
   "file_extension": ".py",
   "mimetype": "text/x-python",
   "name": "python",
   "nbconvert_exporter": "python",
   "pygments_lexer": "ipython3",
   "version": "3.11.6"
  }
 },
 "nbformat": 4,
 "nbformat_minor": 5
}

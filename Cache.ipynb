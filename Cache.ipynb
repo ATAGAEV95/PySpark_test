{
 "cells": [
  {
   "cell_type": "code",
   "execution_count": 1,
   "id": "e7858be0-4a13-4c83-8ef5-d71f5fad1e61",
   "metadata": {},
   "outputs": [
    {
     "name": "stdout",
     "output_type": "stream",
     "text": [
      "+---+------+\n",
      "| id|  name|\n",
      "+---+------+\n",
      "|  0|Name_0|\n",
      "|  2|Name_2|\n",
      "|  4|Name_4|\n",
      "|  6|Name_1|\n",
      "|  8|Name_3|\n",
      "| 10|Name_0|\n",
      "| 12|Name_2|\n",
      "| 14|Name_4|\n",
      "| 16|Name_1|\n",
      "| 18|Name_3|\n",
      "| 20|Name_0|\n",
      "| 22|Name_2|\n",
      "| 24|Name_4|\n",
      "| 26|Name_1|\n",
      "| 28|Name_3|\n",
      "| 30|Name_0|\n",
      "| 32|Name_2|\n",
      "| 34|Name_4|\n",
      "| 36|Name_1|\n",
      "| 38|Name_3|\n",
      "+---+------+\n",
      "only showing top 20 rows\n",
      "\n"
     ]
    }
   ],
   "source": [
    "from pyspark.sql import SparkSession\n",
    "from pyspark.sql.functions import col\n",
    "\n",
    "spark = SparkSession.builder \\\n",
    "    .appName(\"Cache Example\") \\\n",
    "    .getOrCreate()\n",
    "\n",
    "data = [(i, f\"Name_{i % 5}\") for i in range(1000)]\n",
    "df = spark.createDataFrame(data, [\"id\", \"name\"])\n",
    "\n",
    "# Применяем фильтр и кэшируем результат\n",
    "filtered_df = df.filter(col(\"id\") % 2 == 0).cache()\n",
    "\n",
    "# Первое действие (action) вызывает выполнение и кэширование\n",
    "filtered_df.count()  # Это действие выполнит фильтрацию и закэширует результат\n",
    "\n",
    "# Повторное использование закэшированных данных\n",
    "filtered_df.show()  # Это действие извлечет данные из кэша и отобразит их\n",
    "\n",
    "spark.stop()"
   ]
  },
  {
   "cell_type": "code",
   "execution_count": 2,
   "id": "c3da9187-806d-4e14-99ca-43ef7a84eb7c",
   "metadata": {},
   "outputs": [
    {
     "name": "stdout",
     "output_type": "stream",
     "text": [
      "+---+------+\n",
      "| id|  name|\n",
      "+---+------+\n",
      "|  0|Name_0|\n",
      "|  2|Name_2|\n",
      "|  4|Name_4|\n",
      "|  6|Name_1|\n",
      "|  8|Name_3|\n",
      "| 10|Name_0|\n",
      "| 12|Name_2|\n",
      "| 14|Name_4|\n",
      "| 16|Name_1|\n",
      "| 18|Name_3|\n",
      "| 20|Name_0|\n",
      "| 22|Name_2|\n",
      "| 24|Name_4|\n",
      "| 26|Name_1|\n",
      "| 28|Name_3|\n",
      "| 30|Name_0|\n",
      "| 32|Name_2|\n",
      "| 34|Name_4|\n",
      "| 36|Name_1|\n",
      "| 38|Name_3|\n",
      "+---+------+\n",
      "only showing top 20 rows\n",
      "\n"
     ]
    }
   ],
   "source": [
    "from pyspark import StorageLevel\n",
    "from pyspark.sql import SparkSession\n",
    "from pyspark.sql.functions import col\n",
    "\n",
    "spark = SparkSession.builder \\\n",
    "    .appName(\"Persist Example\") \\\n",
    "    .getOrCreate()\n",
    "\n",
    "data = [(i, f\"Name_{i % 5}\") for i in range(1000)]\n",
    "df = spark.createDataFrame(data, [\"id\", \"name\"])\n",
    "\n",
    "# Применяем фильтр и сохраняем результат с уровнем хранения MEMORY_AND_DISK\n",
    "filtered_df = df.filter(col(\"id\") % 2 == 0).persist(StorageLevel.MEMORY_AND_DISK)\n",
    "\n",
    "# Первое действие вызывает выполнение и кэширование\n",
    "filtered_df.count()  # Это действие выполнит фильтрацию и закэширует результат в памяти и на диске\n",
    "\n",
    "# Повторное использование закэшированных данных\n",
    "filtered_df.show()  # Это действие извлечет данные из кэша и отобразит их\n",
    "\n",
    "spark.stop()"
   ]
  },
  {
   "cell_type": "code",
   "execution_count": null,
   "id": "f29ecd86-18fc-4bd7-96ba-f01a8a4faf2e",
   "metadata": {},
   "outputs": [],
   "source": []
  }
 ],
 "metadata": {
  "kernelspec": {
   "display_name": "Python 3 (ipykernel)",
   "language": "python",
   "name": "python3"
  },
  "language_info": {
   "codemirror_mode": {
    "name": "ipython",
    "version": 3
   },
   "file_extension": ".py",
   "mimetype": "text/x-python",
   "name": "python",
   "nbconvert_exporter": "python",
   "pygments_lexer": "ipython3",
   "version": "3.11.6"
  }
 },
 "nbformat": 4,
 "nbformat_minor": 5
}

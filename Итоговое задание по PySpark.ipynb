{
 "cells": [
  {
   "cell_type": "code",
   "execution_count": 2,
   "id": "b04cf132-746c-483f-b08a-02ac0b4fdbe6",
   "metadata": {},
   "outputs": [
    {
     "name": "stdout",
     "output_type": "stream",
     "text": [
      "+---------------+--------------------+------+--------------------+-------------+-------------+\n",
      "|             ip|           timestamp|method|                 url|response_code|response_size|\n",
      "+---------------+--------------------+------+--------------------+-------------+-------------+\n",
      "|172.106.214.246|2024-01-07 04:26:...|  POST|categories/posts/...|          200|         5582|\n",
      "|   176.72.6.231|2024-07-02 08:49:...|   PUT|category/wp-conte...|          200|         2412|\n",
      "|135.104.133.136|2024-04-23 21:51:...|  POST|     wp-content/main|          404|          818|\n",
      "| 122.109.79.170|2024-02-18 22:00:...|   PUT|                tags|          404|         7354|\n",
      "|   84.174.51.56|2024-07-07 08:41:...|   GET| categories/category|          200|          374|\n",
      "|  73.78.144.101|2024-07-11 21:47:...|   PUT|     explore/tag/tag|          404|         8202|\n",
      "| 116.98.100.139|2024-03-15 03:34:...|DELETE|          posts/main|          500|         5782|\n",
      "|  44.241.213.41|2024-03-13 19:31:...|  POST|        posts/search|          404|          368|\n",
      "| 215.72.131.173|2024-03-05 12:11:...|   GET|             explore|          404|         3973|\n",
      "|   15.73.221.30|2024-07-14 10:09:...|   GET|           blog/main|          200|         8128|\n",
      "|147.184.184.208|2024-04-27 03:22:...|DELETE|         search/tags|          301|         3070|\n",
      "|151.112.156.188|2024-06-02 02:35:...|   GET|      categories/app|          500|         8878|\n",
      "| 115.240.208.18|2024-03-25 14:00:...|   PUT|explore/categorie...|          500|         3392|\n",
      "| 105.127.122.12|2024-05-22 05:15:...|   PUT|          app/search|          301|         6990|\n",
      "|   139.71.151.5|2024-01-16 23:48:...|  POST|         main/search|          404|         2652|\n",
      "|  210.118.29.47|2024-03-05 22:42:...|   PUT|          posts/blog|          500|         3732|\n",
      "| 92.133.104.227|2024-06-11 11:15:...|DELETE|        tag/blog/app|          200|         3793|\n",
      "|  128.162.44.90|2024-02-19 23:07:...|  POST|         search/blog|          500|         2933|\n",
      "|    215.4.24.53|2024-01-20 15:23:...|   GET|     wp-content/main|          200|         8930|\n",
      "|     29.74.26.9|2024-05-06 05:44:...|   GET|wp-content/list/tags|          404|         1201|\n",
      "+---------------+--------------------+------+--------------------+-------------+-------------+\n",
      "only showing top 20 rows\n",
      "\n"
     ]
    }
   ],
   "source": [
    "from pyspark.sql import SparkSession\n",
    "from pyspark.sql.functions import count\n",
    "\n",
    "# Создание сессии Spark\n",
    "spark = SparkSession.builder.appName(\"Weather\").getOrCreate()\n",
    "\n",
    "# Чтение CSV файла в DataFrame\n",
    "df = spark.read.csv(\"/home/jovyan/work/PySpark_test/config/web_server_logs.csv\", header=True, inferSchema=True)\n",
    "\n",
    "df.show()\n",
    "\n",
    "# Создание временной представления для SQL запросов\n",
    "df.createOrReplaceTempView(\"web_server_logs\")\n",
    "\n",
    "# Запрос для получения 10 самых активных IP-адресов\n",
    "top10_ip = spark.sql(\"\"\"\n",
    "SELECT ip, COUNT(ip) AS request_count\n",
    "FROM web_server_logs\n",
    "GROUP BY ip\n",
    "ORDER BY request_count DESC\n",
    "LIMIT 10\n",
    "\"\"\")\n",
    "\n",
    "# Группировка по HTTP методам с подсчетом количества запросов\n",
    "count_http = df.groupBy(\"method\").agg(count(\"method\").alias(\"method_count\"))\n",
    "\n",
    "# Подсчет числа 404 ответов\n",
    "code_404 = df.filter(df[\"response_code\"] == 404).agg(count(\"response_code\"))\n",
    "\n",
    "# Запрос для получения общего размера ответов по дням\n",
    "total_size = spark.sql(\"\"\"\n",
    "SELECT CAST(timestamp AS date) AS date, SUM(response_size) AS total_response_size\n",
    "FROM web_server_logs\n",
    "GROUP BY date \n",
    "ORDER BY date \n",
    "\"\"\")\n",
    "\n",
    "# Вывод результатов\n",
    "# print(\"Top 10 active IP addresses:\")\n",
    "# top10_ip.show()\n",
    "# print(\"Request count by HTTP method:\")\n",
    "# count_http.show()\n",
    "# print(\"Number of 404 response codes:\", code_404.collect()[0][0])\n",
    "# print(\"Total response size by day:\")\n",
    "# total_size.show()\n",
    "\n",
    "# Остановка сессии Spark\n",
    "spark.stop()"
   ]
  },
  {
   "cell_type": "code",
   "execution_count": null,
   "id": "da40ee28-3638-4bce-b483-8813d86df71b",
   "metadata": {},
   "outputs": [],
   "source": []
  }
 ],
 "metadata": {
  "kernelspec": {
   "display_name": "Python 3 (ipykernel)",
   "language": "python",
   "name": "python3"
  },
  "language_info": {
   "codemirror_mode": {
    "name": "ipython",
    "version": 3
   },
   "file_extension": ".py",
   "mimetype": "text/x-python",
   "name": "python",
   "nbconvert_exporter": "python",
   "pygments_lexer": "ipython3",
   "version": "3.11.6"
  }
 },
 "nbformat": 4,
 "nbformat_minor": 5
}

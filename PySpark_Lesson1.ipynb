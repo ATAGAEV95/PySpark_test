{
 "cells": [
  {
   "cell_type": "code",
   "execution_count": 2,
   "id": "23f32607-4ff0-4d95-a395-986e8dbe7830",
   "metadata": {},
   "outputs": [
    {
     "name": "stderr",
     "output_type": "stream",
     "text": [
      "Setting default log level to \"WARN\".\n",
      "To adjust logging level use sc.setLogLevel(newLevel). For SparkR, use setLogLevel(newLevel).\n",
      "24/07/22 17:56:14 WARN NativeCodeLoader: Unable to load native-hadoop library for your platform... using builtin-java classes where applicable\n",
      "                                                                                \r"
     ]
    },
    {
     "name": "stdout",
     "output_type": "stream",
     "text": [
      "Чётные числа: [2, 4, 6, 8, 10]\n",
      "Сумма чётных чисел: 30\n",
      "11\n"
     ]
    }
   ],
   "source": [
    "from pyspark import SparkContext, SparkConf\n",
    "\n",
    "# Настройка Spark\n",
    "conf = SparkConf().setAppName(\"Simple RDD Example\").setMaster(\"local[*]\")\n",
    "sc = SparkContext(conf=conf)\n",
    "\n",
    "# 1. Создание RDD из списка чисел\n",
    "numbers = [1, 2, 3, 4, 5, 6, 7, 8, 9, 10]\n",
    "rdd = sc.parallelize(numbers)\n",
    "\n",
    "# 2. Трансформации: Фильтрация чётных чисел\n",
    "even_numbers_rdd = rdd.filter(lambda x: x % 2 == 0)\n",
    "\n",
    "# 3. Действие: Подсчёт суммы чётных чисел\n",
    "sum_even_numbers = even_numbers_rdd.sum()\n",
    "\n",
    "# Вывод результата\n",
    "print(\"Чётные числа:\", even_numbers_rdd.collect())\n",
    "print(\"Сумма чётных чисел:\", sum_even_numbers)\n",
    "\n",
    "a = 5 + 6\n",
    "\n",
    "print(a)\n",
    "\n",
    "# Остановка SparkContext\n",
    "sc.stop()"
   ]
  },
  {
   "cell_type": "code",
   "execution_count": null,
   "id": "163b17de-3be3-4970-8fd7-526c012c8ed7",
   "metadata": {},
   "outputs": [],
   "source": []
  }
 ],
 "metadata": {
  "kernelspec": {
   "display_name": "Python 3 (ipykernel)",
   "language": "python",
   "name": "python3"
  },
  "language_info": {
   "codemirror_mode": {
    "name": "ipython",
    "version": 3
   },
   "file_extension": ".py",
   "mimetype": "text/x-python",
   "name": "python",
   "nbconvert_exporter": "python",
   "pygments_lexer": "ipython3",
   "version": "3.11.9"
  }
 },
 "nbformat": 4,
 "nbformat_minor": 5
}

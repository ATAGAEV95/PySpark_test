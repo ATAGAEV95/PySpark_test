{
 "cells": [
  {
   "cell_type": "code",
   "execution_count": 1,
   "id": "a410b01c-a7a7-4164-b486-14636688ede9",
   "metadata": {},
   "outputs": [
    {
     "name": "stdout",
     "output_type": "stream",
     "text": [
      "Активные Spark сессии: http://b35f097c8a09:4041\n"
     ]
    }
   ],
   "source": [
    "from pyspark.sql import SparkSession\n",
    "from pyspark.sql.functions import col, split, regexp_replace, trim, length, when, monotonically_increasing_id, expr\n",
    "\n",
    "# Создание Spark сессии с указанием зависимости и параметрами памяти\n",
    "spark = SparkSession.builder \\\n",
    "    .appName(\"CSV to PySpark\") \\\n",
    "    .getOrCreate()\n",
    "\n",
    "print(\"Активные Spark сессии:\", spark.sparkContext.uiWebUrl)"
   ]
  },
  {
   "cell_type": "code",
   "execution_count": 10,
   "id": "211455b4-677b-4bdb-b044-0958223add7c",
   "metadata": {},
   "outputs": [],
   "source": [
    "PATH = \"/home/jovyan/work/PySpark_test/config/\"\n",
    "df = spark.read.csv(f\"{PATH}leaving.csv\", header = True)\n",
    "\n",
    "df = df.filter(df.leaving != '0')\n",
    "\n",
    "\n",
    "df = df.select(\"region\", \"region_okato\", \"world\", \"unit_name\", \"period_name\", \"migration\", \"years\", \"leaving\")\n",
    "\n",
    "df.coalesce(1).write.csv(f\"{PATH}leaving_top.csv\", header=True, mode=\"overwrite\")"
   ]
  },
  {
   "cell_type": "code",
   "execution_count": null,
   "id": "9c951646-1c2e-4ac9-ba65-a867333b1c12",
   "metadata": {},
   "outputs": [],
   "source": []
  }
 ],
 "metadata": {
  "kernelspec": {
   "display_name": "Python 3 (ipykernel)",
   "language": "python",
   "name": "python3"
  },
  "language_info": {
   "codemirror_mode": {
    "name": "ipython",
    "version": 3
   },
   "file_extension": ".py",
   "mimetype": "text/x-python",
   "name": "python",
   "nbconvert_exporter": "python",
   "pygments_lexer": "ipython3",
   "version": "3.11.6"
  }
 },
 "nbformat": 4,
 "nbformat_minor": 5
}

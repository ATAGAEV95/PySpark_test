{
 "cells": [
  {
   "cell_type": "code",
   "execution_count": 4,
   "id": "16b878fa-1420-4ec2-8e04-03376d08cc5c",
   "metadata": {},
   "outputs": [
    {
     "name": "stdout",
     "output_type": "stream",
     "text": [
      "Шифрование завершено\n"
     ]
    }
   ],
   "source": [
    "import os\n",
    "from cryptography.fernet import Fernet\n",
    "\n",
    "# Директория ключа\n",
    "path_key = f\"/home/jovyan/work/PySpark_test/General_task_№2/utils/\"\n",
    "\n",
    "# Генерация ключа и сохранение в файл\n",
    "key = Fernet.generate_key()\n",
    "with open(f\"{path_key}secret.key\", \"wb\") as key_file:\n",
    "    key_file.write(key)\n",
    "\n",
    "cipher_suite = Fernet(key)\n",
    "\n",
    "# Шифрование данных\n",
    "def encrypt_file(file_path):\n",
    "    with open(file_path, 'rb') as file:\n",
    "        original_data = file.read()\n",
    "    encrypted_data = cipher_suite.encrypt(original_data)\n",
    "    with open(file_path, 'wb') as file:\n",
    "        file.write(encrypted_data)\n",
    "\n",
    "# Функция находит все файлы в директории и вызывает функцию шифрования данных\n",
    "def encrypt_directory(path):\n",
    "    for root, dirs, files in os.walk(path):\n",
    "        for file in files:\n",
    "            file_path = os.path.join(root, file)\n",
    "            encrypt_file(file_path)\n",
    "\n",
    "# Вызов функции для нужной директории\n",
    "path_to_encrypt = \"/home/jovyan/work/PySpark_test/config/more_csv\"\n",
    "encrypt_directory(path_to_encrypt)\n",
    "\n",
    "print(\"Шифрование завершено\")"
   ]
  },
  {
   "cell_type": "code",
   "execution_count": null,
   "id": "5c602a3f-5a1b-4826-9094-9eff783af142",
   "metadata": {},
   "outputs": [],
   "source": []
  }
 ],
 "metadata": {
  "kernelspec": {
   "display_name": "Python 3 (ipykernel)",
   "language": "python",
   "name": "python3"
  },
  "language_info": {
   "codemirror_mode": {
    "name": "ipython",
    "version": 3
   },
   "file_extension": ".py",
   "mimetype": "text/x-python",
   "name": "python",
   "nbconvert_exporter": "python",
   "pygments_lexer": "ipython3",
   "version": "3.11.6"
  }
 },
 "nbformat": 4,
 "nbformat_minor": 5
}

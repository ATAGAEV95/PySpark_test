{
 "cells": [
  {
   "cell_type": "code",
   "execution_count": 2,
   "id": "be27ad61-d5ff-4b4d-b05d-ebdd42ddb076",
   "metadata": {},
   "outputs": [
    {
     "name": "stdout",
     "output_type": "stream",
     "text": [
      "root\n",
      " |-- age: string (nullable = true)\n",
      " |-- name: string (nullable = true)\n",
      "\n"
     ]
    },
    {
     "name": "stderr",
     "output_type": "stream",
     "text": [
      "                                                                                \r"
     ]
    },
    {
     "name": "stdout",
     "output_type": "stream",
     "text": [
      "+---+-----+\n",
      "|age| name|\n",
      "+---+-----+\n",
      "| 19|Alice|\n",
      "| 19|Alice|\n",
      "| 19|Alice|\n",
      "+---+-----+\n",
      "\n"
     ]
    }
   ],
   "source": [
    "from pyspark.sql import SparkSession\n",
    "\n",
    "spark = SparkSession.builder \\\n",
    ".appName(\"schema\") \\\n",
    ".config(\"spark.master\", \"local[*]\") \\\n",
    ".getOrCreate()\n",
    "\n",
    "data = [\n",
    "    {\"name\": \"Alice\", \"age\": \"19\"},\n",
    "    {\"name\": \"Alice\", \"age\": \"19\"},\n",
    "    {\"name\": \"Alice\", \"age\": \"19\"}]\n",
    "\n",
    "df = spark.createDataFrame(data)\n",
    "\n",
    "df.printSchema()\n",
    "\n",
    "df.show()\n",
    "\n",
    "spark.stop()"
   ]
  },
  {
   "cell_type": "code",
   "execution_count": null,
   "id": "1fcc32c4-a340-4f44-821a-644000ac9355",
   "metadata": {},
   "outputs": [],
   "source": [
    "from pyspark.sql import SparkSession\n",
    "\n",
    "spark = SparkSession.builder \\\n",
    ".appName(\"schema\") \\\n",
    ".config(\"spark.master\", \"local[*]\") \\\n",
    ".getOrCreate()\n",
    "\n",
    "data = [\n",
    "    {\"name\": \"Alice\", \"age\": \"19\"},\n",
    "    {\"name\": \"Alice\", \"age\": \"19\"},\n",
    "    {\"name\": \"Alice\", \"age\": \"19\"}]\n",
    "\n",
    "df = spark.createDataFrame(data)\n",
    "\n",
    "df.printSchema()\n",
    "\n",
    "df.show()\n",
    "\n",
    "spark.stop()"
   ]
  },
  {
   "cell_type": "code",
   "execution_count": null,
   "id": "e7767c24-b69d-4d2c-bb8d-e3609117f3b2",
   "metadata": {},
   "outputs": [],
   "source": []
  }
 ],
 "metadata": {
  "kernelspec": {
   "display_name": "Python 3 (ipykernel)",
   "language": "python",
   "name": "python3"
  },
  "language_info": {
   "codemirror_mode": {
    "name": "ipython",
    "version": 3
   },
   "file_extension": ".py",
   "mimetype": "text/x-python",
   "name": "python",
   "nbconvert_exporter": "python",
   "pygments_lexer": "ipython3",
   "version": "3.11.9"
  }
 },
 "nbformat": 4,
 "nbformat_minor": 5
}

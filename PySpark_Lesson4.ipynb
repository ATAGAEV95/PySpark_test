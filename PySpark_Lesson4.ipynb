{
 "cells": [
  {
   "cell_type": "code",
   "execution_count": null,
   "id": "ef7e7bb2-183b-4a29-b2c7-339079abd390",
   "metadata": {},
   "outputs": [],
   "source": [
    "from pyspark import SparkContext\n",
    "\n",
    "# Создание SparkContext\n",
    "sc = SparkContext(\"local\", \"Read Text File Example\")\n",
    "\n",
    "# Чтение текстового файла\n",
    "rdd = sc.textFile(\"path/to/textfile.txt\")\n",
    "\n",
    "# Пример обработки данных\n",
    "words = rdd.flatMap(lambda line: line.split(\" \"))\n",
    "word_counts = words.map(lambda word: (word, 1)).reduceByKey(lambda a, b: a + b)\n",
    "\n",
    "# Вывод результата\n",
    "print(word_counts.collect())"
   ]
  },
  {
   "cell_type": "code",
   "execution_count": null,
   "id": "95a75700-53ea-4250-b0fc-1e9c69914f2d",
   "metadata": {},
   "outputs": [],
   "source": [
    "from pyspark.sql import SparkSession\n",
    "\n",
    "# Создание SparkSession\n",
    "spark = SparkSession.builder.appName(\"Read CSV Example\").getOrCreate()\n",
    "\n",
    "# Чтение CSV-файла\n",
    "df = spark.read.csv(\"path/to/csvfile.csv\", header=True, inferSchema=True)\n",
    "\n",
    "# Печать схемы DataFrame\n",
    "df.printSchema()\n",
    "\n",
    "# Показ первых 5 строк\n",
    "df.show(5)"
   ]
  }
 ],
 "metadata": {
  "kernelspec": {
   "display_name": "Python 3 (ipykernel)",
   "language": "python",
   "name": "python3"
  },
  "language_info": {
   "codemirror_mode": {
    "name": "ipython",
    "version": 3
   },
   "file_extension": ".py",
   "mimetype": "text/x-python",
   "name": "python",
   "nbconvert_exporter": "python",
   "pygments_lexer": "ipython3",
   "version": "3.11.9"
  }
 },
 "nbformat": 4,
 "nbformat_minor": 5
}

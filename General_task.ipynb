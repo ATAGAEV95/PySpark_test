{
 "cells": [
  {
   "cell_type": "code",
   "execution_count": null,
   "id": "e7c19b03-498e-4dbb-9c2d-244151e08649",
   "metadata": {},
   "outputs": [
    {
     "name": "stdin",
     "output_type": "stream",
     "text": [
      "Сколько строк вы хотите сгенерировать:  1000000\n"
     ]
    }
   ],
   "source": [
    "from pyspark.sql import SparkSession\n",
    "from pyspark.sql.functions import col, concat, lit, when, rand, current_date, date_add, date_format\n",
    "import os\n",
    "\n",
    "spark = SparkSession.builder.appName(\"SyntheticData\") \\\n",
    "    .config(\"spark.master\", \"local\") \\\n",
    "    .config('spark.driver.memory', '4g') \\\n",
    "    .config('spark.executor.cores', '4') \\\n",
    "    .config('spark.executor.memory', '8g') \\\n",
    "    .getOrCreate()\n",
    "\n",
    "# Функция для ввода положительного целого числа\n",
    "def input_number(number):\n",
    "    while True:\n",
    "        try:\n",
    "            user_input  = int(input(number))\n",
    "            if user_input > 0:\n",
    "                return user_input\n",
    "            else:\n",
    "                print(\"Пожалуйста, введите положительное целое число.\")\n",
    "        except ValueError:\n",
    "            print(\"Пожалуйста, введите целое число.\")\n",
    "\n",
    "# Запрос числа строк для генерации от пользователя\n",
    "number_row = input_number(\"Сколько строк вы хотите сгенерировать: \")\n",
    "\n",
    "# Генерация данных для колонок id, name, city, email, age, salary, registration_date\n",
    "data = [(i, f\"Names_{i}\", f\"Cityname_{i}\") for i in range(1, number_row + 1)]\n",
    "df = spark.createDataFrame(data, [\"id\", \"name\", \"city\"])\n",
    "\n",
    "df = df.withColumn(\"email\", concat(col(\"name\"), lit(\"@example.\"), when(col(\"id\") % 2 == 0, \"ru\").otherwise(\"com\"))) \\\n",
    "    .withColumn(\"age\", (rand() * 78 + 18).cast(\"int\")) \\\n",
    "    .withColumn(\"salary\", (rand() * 150000 + 19242).cast(\"int\")) \\\n",
    "    .withColumn(\"registration_date\", date_add(current_date(), - (rand() * (col(\"age\") - 18)).cast(\"int\") * 365))\n",
    "\n",
    "df.cache()  # Кеширование DataFrame для более быстрой обработки\n",
    "\n",
    "# Замена 5% данных на значение NULL\n",
    "columns = [\"name\", \"email\", \"city\", \"age\", \"salary\", \"registration_date\"]\n",
    "df = df.select(\"id\", *[when(rand() <= 0.05, None).otherwise(col(column)).alias(column) for column in columns])\n",
    "\n",
    "# Установка текущей даты для имени файла\n",
    "df_date = spark.sql(\"SELECT current_date()\")\n",
    "current_date = df_date.select(date_format(\"current_date\", \"yyyy-MM-dd\")).first()[0]\n",
    "\n",
    "# Путь к сохранению CSV файла\n",
    "path = f\"/home/jovyan/work/PySpark_test/config/temp/{current_date}-dev.csv\"\n",
    "path_rename = f\"/home/jovyan/work/PySpark_test/config/{current_date}-dev.csv\"\n",
    "# Запись DataFrame в CSV\n",
    "df.coalesce(1).write.csv(path, header=True, mode=\"overwrite\")  \n",
    "\n",
    "# Переименование сгенерированного файла\n",
    "for file in os.listdir(path):\n",
    "    file_path = os.path.join(path, file)\n",
    "    if file.startswith(\"part-\"):\n",
    "        os.rename(file_path, path_rename)\n",
    "\n",
    "# Удаление временных файлов и папки\n",
    "for file in os.listdir(path):\n",
    "    file_path = os.path.join(path, file)\n",
    "    os.remove(file_path)\n",
    "    \n",
    "os.rmdir(path)\n",
    "\n",
    "df.show()\n",
    "\n",
    "spark.stop()"
   ]
  },
  {
   "cell_type": "code",
   "execution_count": null,
   "id": "5137574c-cc18-43a1-a66a-681082fd3fbd",
   "metadata": {},
   "outputs": [],
   "source": []
  }
 ],
 "metadata": {
  "kernelspec": {
   "display_name": "Python 3 (ipykernel)",
   "language": "python",
   "name": "python3"
  },
  "language_info": {
   "codemirror_mode": {
    "name": "ipython",
    "version": 3
   },
   "file_extension": ".py",
   "mimetype": "text/x-python",
   "name": "python",
   "nbconvert_exporter": "python",
   "pygments_lexer": "ipython3",
   "version": "3.11.6"
  }
 },
 "nbformat": 4,
 "nbformat_minor": 5
}

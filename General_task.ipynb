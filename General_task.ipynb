{
 "cells": [
  {
   "cell_type": "code",
   "execution_count": 2,
   "id": "e7c19b03-498e-4dbb-9c2d-244151e08649",
   "metadata": {},
   "outputs": [
    {
     "name": "stdin",
     "output_type": "stream",
     "text": [
      "Сколько строк вы хотите сгенерировать:  1000000\n"
     ]
    },
    {
     "name": "stdout",
     "output_type": "stream",
     "text": [
      "+---+--------+--------------------+-----------+---+------+-----------------+\n",
      "| id|    name|               email|       city|age|salary|registration_date|\n",
      "+---+--------+--------------------+-----------+---+------+-----------------+\n",
      "|  1| Names_1| Names_1@example.com| Cityname_1| 86| 88966|       1992-08-08|\n",
      "|  2| Names_2|  Names_2@example.ru| Cityname_2| 72| 66714|       1976-08-12|\n",
      "|  3| Names_3| Names_3@example.com| Cityname_3| 47| 88701|       2016-08-02|\n",
      "|  4| Names_4|  Names_4@example.ru| Cityname_4| 58| 85602|       2016-08-02|\n",
      "|  5|    NULL| Names_5@example.com| Cityname_5| 94|  NULL|       1971-08-14|\n",
      "|  6| Names_6|  Names_6@example.ru| Cityname_6| 77| 44771|       1982-08-11|\n",
      "|  7| Names_7| Names_7@example.com| Cityname_7| 39| 65415|       2016-08-02|\n",
      "|  8| Names_8|  Names_8@example.ru| Cityname_8| 18| 43731|       2024-07-31|\n",
      "|  9| Names_9| Names_9@example.com| Cityname_9| 29|122625|       2016-08-02|\n",
      "| 10|Names_10| Names_10@example.ru|Cityname_10| 49| 58761|       2004-08-05|\n",
      "| 11|Names_11|Names_11@example.com|Cityname_11| 47|114787|       2013-08-03|\n",
      "| 12|    NULL| Names_12@example.ru|Cityname_12| 26| 39007|       2022-08-01|\n",
      "| 13|Names_13|Names_13@example.com|Cityname_13| 19|168539|       2024-07-31|\n",
      "| 14|Names_14| Names_14@example.ru|Cityname_14| 43| 69872|       2003-08-06|\n",
      "| 15|Names_15|Names_15@example.com|Cityname_15| 30| 61885|       2015-08-03|\n",
      "| 16|Names_16|                NULL|Cityname_16| 90| 28501|       1960-08-16|\n",
      "| 17|Names_17|Names_17@example.com|Cityname_17| 94| 76242|       1998-08-07|\n",
      "| 18|Names_18| Names_18@example.ru|Cityname_18| 50| 34848|       1997-08-07|\n",
      "| 19|Names_19|Names_19@example.com|Cityname_19| 87|161681|       1971-08-14|\n",
      "| 20|Names_20| Names_20@example.ru|Cityname_20| 25| 50991|       2023-08-01|\n",
      "+---+--------+--------------------+-----------+---+------+-----------------+\n",
      "only showing top 20 rows\n",
      "\n"
     ]
    }
   ],
   "source": [
    "from pyspark.sql import SparkSession\n",
    "from pyspark.sql.functions import col, concat, lit, when, rand, current_date, date_add, date_format\n",
    "import os\n",
    "\n",
    "spark = SparkSession.builder.appName(\"SyntheticData\") \\\n",
    "    .config(\"spark.master\", \"local\") \\\n",
    "    .config('spark.driver.memory', '4g') \\\n",
    "    .config('spark.executor.cores', '4') \\\n",
    "    .config('spark.executor.memory', '8g') \\\n",
    "    .getOrCreate()\n",
    "\n",
    "# Функция для ввода положительного целого числа\n",
    "def input_number(number):\n",
    "    while True:\n",
    "        try:\n",
    "            user_input  = int(input(number))\n",
    "            if user_input > 0:\n",
    "                return user_input\n",
    "            else:\n",
    "                print(\"Пожалуйста, введите положительное целое число.\")\n",
    "        except ValueError:\n",
    "            print(\"Пожалуйста, введите целое число.\")\n",
    "\n",
    "# Запрос числа строк для генерации от пользователя\n",
    "number_row = input_number(\"Сколько строк вы хотите сгенерировать: \")\n",
    "\n",
    "# Генерация данных для колонок id, name, city, email, age, salary, registration_date\n",
    "data = [(i, f\"Names_{i}\", f\"Cityname_{i}\") for i in range(1, number_row + 1)]\n",
    "df = spark.createDataFrame(data, [\"id\", \"name\", \"city\"])\n",
    "\n",
    "df = df.withColumn(\"email\", concat(col(\"name\"), lit(\"@example.\"), when(col(\"id\") % 2 == 0, \"ru\").otherwise(\"com\"))) \\\n",
    "    .withColumn(\"age\", (rand() * 78 + 18).cast(\"int\")) \\\n",
    "    .withColumn(\"salary\", (rand() * 150000 + 19242).cast(\"int\")) \\\n",
    "    .withColumn(\"registration_date\", date_add(current_date(), - (rand() * (col(\"age\") - 18)).cast(\"int\") * 365))\n",
    "\n",
    "df.cache()  # Кеширование DataFrame для более быстрой обработки\n",
    "\n",
    "# Замена 5% данных на значение NULL\n",
    "columns = [\"name\", \"email\", \"city\", \"age\", \"salary\", \"registration_date\"]\n",
    "df = df.select(\"id\", *[when(rand() <= 0.05, None).otherwise(col(column)).alias(column) for column in columns])\n",
    "\n",
    "# Установка текущей даты для имени файла\n",
    "df_date = spark.sql(\"SELECT current_date()\")\n",
    "current_date = df_date.select(date_format(\"current_date\", \"yyyy-MM-dd\")).first()[0]\n",
    "\n",
    "# Путь к сохранению CSV файла\n",
    "path = f\"/home/jovyan/work/PySpark_test/config/temp/{current_date}-dev.csv\"\n",
    "path_rename = f\"/home/jovyan/work/PySpark_test/config/more_csv/{current_date}-dev.csv\"\n",
    "# Запись DataFrame в CSV\n",
    "df.coalesce(1).write.csv(path, header=True, mode=\"overwrite\")  \n",
    "\n",
    "# Переименование сгенерированного файла\n",
    "for file in os.listdir(path):\n",
    "    file_path = os.path.join(path, file)\n",
    "    if file.startswith(\"part-\"):\n",
    "        os.rename(file_path, path_rename)\n",
    "\n",
    "# Удаление временных файлов и папки\n",
    "for file in os.listdir(path):\n",
    "    file_path = os.path.join(path, file)\n",
    "    os.remove(file_path)\n",
    "    \n",
    "os.rmdir(path)\n",
    "\n",
    "df.show()\n",
    "\n",
    "spark.stop()"
   ]
  },
  {
   "cell_type": "code",
   "execution_count": null,
   "id": "5137574c-cc18-43a1-a66a-681082fd3fbd",
   "metadata": {},
   "outputs": [],
   "source": []
  }
 ],
 "metadata": {
  "kernelspec": {
   "display_name": "Python 3 (ipykernel)",
   "language": "python",
   "name": "python3"
  },
  "language_info": {
   "codemirror_mode": {
    "name": "ipython",
    "version": 3
   },
   "file_extension": ".py",
   "mimetype": "text/x-python",
   "name": "python",
   "nbconvert_exporter": "python",
   "pygments_lexer": "ipython3",
   "version": "3.11.6"
  }
 },
 "nbformat": 4,
 "nbformat_minor": 5
}

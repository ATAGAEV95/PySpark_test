{
 "cells": [
  {
   "cell_type": "code",
   "execution_count": null,
   "id": "ef7e7bb2-183b-4a29-b2c7-339079abd390",
   "metadata": {},
   "outputs": [],
   "source": [
    "from pyspark import SparkContext\n",
    "\n",
    "# Создание SparkContext\n",
    "sc = SparkContext(\"local\", \"Read Text File Example\")\n",
    "\n",
    "# Чтение текстового файла\n",
    "rdd = sc.textFile(\"path/to/textfile.txt\")\n",
    "\n",
    "# Пример обработки данных\n",
    "words = rdd.flatMap(lambda line: line.split(\" \"))\n",
    "word_counts = words.map(lambda word: (word, 1)).reduceByKey(lambda a, b: a + b)\n",
    "\n",
    "# Вывод результата\n",
    "print(word_counts.collect())"
   ]
  },
  {
   "cell_type": "code",
   "execution_count": null,
   "id": "95a75700-53ea-4250-b0fc-1e9c69914f2d",
   "metadata": {},
   "outputs": [],
   "source": [
    "from pyspark.sql import SparkSession\n",
    "\n",
    "# Создание SparkSession\n",
    "spark = SparkSession.builder.appName(\"Read CSV Example\").getOrCreate()\n",
    "\n",
    "# Чтение CSV-файла\n",
    "df = spark.read.csv(\"path/to/csvfile.csv\", header=True, inferSchema=True)\n",
    "\n",
    "# Печать схемы DataFrame\n",
    "df.printSchema()\n",
    "\n",
    "# Показ первых 5 строк\n",
    "df.show(5)"
   ]
  },
  {
   "cell_type": "code",
   "execution_count": null,
   "id": "4a129d61-1809-4444-9bb5-c408c9f46683",
   "metadata": {},
   "outputs": [],
   "source": [
    "from pyspark.sql.types import StructType, StructField, StringType, IntegerType\n",
    "\n",
    "# Создание схемы для CSV-файла\n",
    "schema = StructType([\n",
    "    StructField(\"Name\", StringType(), True),\n",
    "    StructField(\"Age\", IntegerType(), True),\n",
    "    StructField(\"City\", StringType(), True)\n",
    "])\n",
    "\n",
    "# Чтение CSV-файла с явной схемой и указанием разделителя\n",
    "df_custom = spark.read.csv(\"path/to/csvfile.csv\", header=True, schema=schema, delimiter=\";\")\n",
    "\n",
    "# Печать схемы DataFrame\n",
    "df_custom.printSchema()\n",
    "\n",
    "# Показ первых 5 строк\n",
    "df_custom.show(5)"
   ]
  },
  {
   "cell_type": "code",
   "execution_count": null,
   "id": "11b87b2a-c79b-4ac6-93ea-8d34e83da663",
   "metadata": {},
   "outputs": [],
   "source": [
    "from pyspark.sql import SparkSession\n",
    "\n",
    "# Создание SparkSession\n",
    "spark = SparkSession.builder.appName(\"Read JSON Example\").getOrCreate()\n",
    "\n",
    "# Чтение JSON-файла\n",
    "df_json = spark.read.json(\"path/to/jsonfile.json\")\n",
    "\n",
    "# Печать схемы DataFrame\n",
    "df_json.printSchema()\n",
    "\n",
    "# Показ первых 5 строк\n",
    "df_json.show(5)\n",
    "\n",
    "# Пример обработки данных\n",
    "df_filtered = df_json.filter(df_json[\"age\"] > 30)\n",
    "df_filtered.show()"
   ]
  },
  {
   "cell_type": "code",
   "execution_count": null,
   "id": "8cf743ac-38d9-4887-af48-11a7a2e7d480",
   "metadata": {},
   "outputs": [],
   "source": []
  }
 ],
 "metadata": {
  "kernelspec": {
   "display_name": "Python 3 (ipykernel)",
   "language": "python",
   "name": "python3"
  },
  "language_info": {
   "codemirror_mode": {
    "name": "ipython",
    "version": 3
   },
   "file_extension": ".py",
   "mimetype": "text/x-python",
   "name": "python",
   "nbconvert_exporter": "python",
   "pygments_lexer": "ipython3",
   "version": "3.11.9"
  }
 },
 "nbformat": 4,
 "nbformat_minor": 5
}

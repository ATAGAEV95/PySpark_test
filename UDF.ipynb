{
 "cells": [
  {
   "cell_type": "code",
   "execution_count": 1,
   "id": "7ff71c29-6a4b-4ef1-9157-76f249f65cdc",
   "metadata": {},
   "outputs": [
    {
     "name": "stdout",
     "output_type": "stream",
     "text": [
      "+---+-----+-------------+\n",
      "| id| name|prefixed_name|\n",
      "+---+-----+-------------+\n",
      "|  1|Alice|   Name_Alice|\n",
      "|  2|  Bob|     Name_Bob|\n",
      "|  3|Cathy|   Name_Cathy|\n",
      "|  4|David|   Name_David|\n",
      "+---+-----+-------------+\n",
      "\n"
     ]
    }
   ],
   "source": [
    "from pyspark.sql import SparkSession\n",
    "from pyspark.sql.functions import col, udf\n",
    "from pyspark.sql.types import IntegerType, StringType\n",
    "\n",
    "spark = SparkSession.builder \\\n",
    "    .appName(\"UDF Example\") \\\n",
    "    .getOrCreate()\n",
    "\n",
    "data = [(1, \"Alice\"), (2, \"Bob\"), (3, \"Cathy\"), (4, \"David\")]\n",
    "df = spark.createDataFrame(data, [\"id\", \"name\"])\n",
    "\n",
    "# Определяем пользовательскую функцию\n",
    "def add_prefix(name):\n",
    "    return \"Name_\" + name\n",
    "\n",
    "# Регистрируем функцию как UDF\n",
    "add_prefix_udf = udf(add_prefix, StringType())\n",
    "\n",
    "# Применяем UDF к DataFrame\n",
    "df_with_prefix = df.withColumn(\"prefixed_name\", add_prefix_udf(col(\"name\")))\n",
    "\n",
    "df_with_prefix.show()\n",
    "\n",
    "spark.stop()"
   ]
  },
  {
   "cell_type": "code",
   "execution_count": 2,
   "id": "a2ca0611-979b-4540-9243-82ae0d623280",
   "metadata": {},
   "outputs": [
    {
     "name": "stdout",
     "output_type": "stream",
     "text": [
      "+---+-----+-----------+\n",
      "| id| name|name_length|\n",
      "+---+-----+-----------+\n",
      "|  1|Alice|          5|\n",
      "|  2|  Bob|          3|\n",
      "|  3|Cathy|          5|\n",
      "|  4|David|          5|\n",
      "+---+-----+-----------+\n",
      "\n"
     ]
    }
   ],
   "source": [
    "from pyspark.sql import SparkSession\n",
    "from pyspark.sql.types import IntegerType\n",
    "spark = SparkSession.builder \\\n",
    "    .appName(\"Register UDF Example\") \\\n",
    "    .getOrCreate()\n",
    "\n",
    "\n",
    "data = [(1, \"Alice\"), (2, \"Bob\"), (3, \"Cathy\"), (4, \"David\")]\n",
    "df = spark.createDataFrame(data, [\"id\", \"name\"])\n",
    "\n",
    "\n",
    "def name_length(name):\n",
    "    return len(name)\n",
    "\n",
    "# Регистрируем функцию как UDF с использованием spark.udf.register\n",
    "spark.udf.register(\"name_length_udf\", name_length, IntegerType())\n",
    "\n",
    "# Создаем временную таблицу для выполнения SQL-запросов\n",
    "df.createOrReplaceTempView(\"people\")\n",
    "\n",
    "# Используем зарегистрированную UDF в SQL-запросе\n",
    "result_df = spark.sql(\"SELECT id, name, name_length_udf(name) as name_length FROM people\")\n",
    "\n",
    "\n",
    "result_df.show()\n",
    "\n",
    "\n",
    "spark.stop()"
   ]
  },
  {
   "cell_type": "code",
   "execution_count": null,
   "id": "a7f85771-ae27-48d5-b1f6-7c1d71564118",
   "metadata": {},
   "outputs": [],
   "source": []
  }
 ],
 "metadata": {
  "kernelspec": {
   "display_name": "Python 3 (ipykernel)",
   "language": "python",
   "name": "python3"
  },
  "language_info": {
   "codemirror_mode": {
    "name": "ipython",
    "version": 3
   },
   "file_extension": ".py",
   "mimetype": "text/x-python",
   "name": "python",
   "nbconvert_exporter": "python",
   "pygments_lexer": "ipython3",
   "version": "3.11.6"
  }
 },
 "nbformat": 4,
 "nbformat_minor": 5
}

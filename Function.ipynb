{
 "cells": [
  {
   "cell_type": "code",
   "execution_count": 5,
   "id": "be27ad61-d5ff-4b4d-b05d-ebdd42ddb076",
   "metadata": {},
   "outputs": [
    {
     "name": "stdout",
     "output_type": "stream",
     "text": [
      "root\n",
      " |-- age: string (nullable = true)\n",
      " |-- name: string (nullable = true)\n",
      "\n"
     ]
    },
    {
     "name": "stderr",
     "output_type": "stream",
     "text": [
      "                                                                                \r"
     ]
    },
    {
     "name": "stdout",
     "output_type": "stream",
     "text": [
      "+---+-----+\n",
      "|age| name|\n",
      "+---+-----+\n",
      "| 19|Alice|\n",
      "| 19|Alice|\n",
      "| 19|Alice|\n",
      "+---+-----+\n",
      "\n"
     ]
    }
   ],
   "source": [
    "from pyspark.sql import SparkSession\n",
    "\n",
    "spark = SparkSession.builder \\\n",
    ".appName(\"schema\") \\\n",
    ".config(\"spark.master\", \"local[*]\") \\\n",
    ".getOrCreate()\n",
    "\n",
    "data = [\n",
    "    {\"name\": \"Alice\", \"age\": \"19\"},\n",
    "    {\"name\": \"Alice\", \"age\": \"19\"},\n",
    "    {\"name\": \"Alice\", \"age\": \"19\"}]\n",
    "\n",
    "df = spark.createDataFrame(data)\n",
    "# df.collect()\n",
    "# df.show()\n",
    "\n",
    "df.printSchema()\n",
    "\n",
    "df.show(truncate = True)\n",
    "# print(df.head())\n",
    "# print(df.take(1))\n",
    "\n",
    "\n",
    "spark.stop()"
   ]
  },
  {
   "cell_type": "code",
   "execution_count": 1,
   "id": "1fcc32c4-a340-4f44-821a-644000ac9355",
   "metadata": {},
   "outputs": [
    {
     "name": "stderr",
     "output_type": "stream",
     "text": [
      "Setting default log level to \"WARN\".\n",
      "To adjust logging level use sc.setLogLevel(newLevel). For SparkR, use setLogLevel(newLevel).\n",
      "24/07/23 14:01:08 WARN NativeCodeLoader: Unable to load native-hadoop library for your platform... using builtin-java classes where applicable\n",
      "                                                                                \r"
     ]
    },
    {
     "name": "stdout",
     "output_type": "stream",
     "text": [
      "root\n",
      " |-- name: string (nullable = true)\n",
      " |-- age: long (nullable = true)\n",
      "\n",
      "+----+---+\n",
      "|name|age|\n",
      "+----+---+\n",
      "|Arbi| 29|\n",
      "|Ivan| 22|\n",
      "+----+---+\n",
      "\n"
     ]
    }
   ],
   "source": [
    "from pyspark.sql import SparkSession\n",
    "\n",
    "spark = SparkSession.builder \\\n",
    ".appName(\"schema\") \\\n",
    ".config(\"spark.master\", \"local[*]\") \\\n",
    ".getOrCreate()\n",
    "\n",
    "data = [\n",
    "    (\"Arbi\", 29), (\"Ivan\", 22)]\n",
    "\n",
    "rdd = spark.sparkContext.parallelize(data)\n",
    "\n",
    "df = rdd.toDF([\"name\", \"age\"])\n",
    "\n",
    "df.printSchema()\n",
    "\n",
    "df.show()\n",
    "\n",
    "spark.stop()"
   ]
  },
  {
   "cell_type": "code",
   "execution_count": 28,
   "id": "e7767c24-b69d-4d2c-bb8d-e3609117f3b2",
   "metadata": {},
   "outputs": [
    {
     "name": "stderr",
     "output_type": "stream",
     "text": [
      "                                                                                \r"
     ]
    },
    {
     "name": "stdout",
     "output_type": "stream",
     "text": [
      "+----+---+\n",
      "|name|age|\n",
      "+----+---+\n",
      "|Arbi| 29|\n",
      "+----+---+\n",
      "\n"
     ]
    }
   ],
   "source": [
    "from pyspark.sql import SparkSession\n",
    "from pyspark.sql.functions import avg, max, col\n",
    "\n",
    "spark = SparkSession.builder \\\n",
    ".appName(\"schema\") \\\n",
    ".config(\"spark.master\", \"local[*]\") \\\n",
    ".getOrCreate()\n",
    "\n",
    "data = [\n",
    "    (\"Arbi\", 29), (\"Ivan\", 22), (\"Ivan\", 22)]\n",
    "\n",
    "rdd = spark.sparkContext.parallelize(data)\n",
    "\n",
    "df = rdd.toDF([\"name\", \"age\"])\n",
    "\n",
    "# df.selectExpr(\"name\", \"age + 1 as age_plus_one\").show()\n",
    "# df.filter(df[\"age\"]>28).show()\n",
    "# df.where(df[\"age\"]>28).show()\n",
    "# df.groupBy(\"age\").count().show()\n",
    "# df.groupBy(\"age\").agg(\n",
    "#     avg(\"age\").alias(\"average_age\"),\n",
    "#     max(\"age\").alias(\"max_age\")).show()\n",
    "# df.orderBy(\"age\").show()\n",
    "# df.orderBy(df[\"age\"].desc()).show()\n",
    "# df.sort(\"age\", ascending=False).show()\n",
    "# df.withColumn(\"age_plus_ane\", df[\"age\"] + 1).show()\n",
    "# df.withColumnRenamed(\"age\", \"fio\").show()\n",
    "# df.drop(\"name\").show()\n",
    "# df.distinct().show()\n",
    "# df.limit(1).show()\n",
    "\n",
    "\n",
    "\n",
    "spark.stop()"
   ]
  },
  {
   "cell_type": "code",
   "execution_count": 40,
   "id": "7971b584-eb24-49cf-a180-9e1ebbe43a1f",
   "metadata": {},
   "outputs": [
    {
     "name": "stderr",
     "output_type": "stream",
     "text": [
      "                                                                                \r"
     ]
    },
    {
     "name": "stdout",
     "output_type": "stream",
     "text": [
      "+---+----+\n",
      "| id|name|\n",
      "+---+----+\n",
      "|  1|Arbi|\n",
      "+---+----+\n",
      "\n"
     ]
    }
   ],
   "source": [
    "from pyspark.sql import SparkSession\n",
    "from pyspark.sql.functions import avg, max, col\n",
    "\n",
    "spark = SparkSession.builder \\\n",
    ".appName(\"schema\") \\\n",
    ".config(\"spark.master\", \"local[*]\") \\\n",
    ".getOrCreate()\n",
    "\n",
    "df1 = spark.createDataFrame([(1, \"Arbi\"), (2, \"Sela\"), (4, \"Kir\")], [\"id\", \"name\"])\n",
    "df2 = spark.createDataFrame([(1, 100), (2, 200), (3, 500)], [\"id\", \"amount\"])\n",
    "\n",
    "# df_join = df1.join(df2, \"id\", \"inner\").show()\n",
    "# df_join = df1.join(df2, \"id\", \"left\").show()\n",
    "# df_join = df1.join(df2, \"id\", \"right\").show()\n",
    "\n",
    "df1.sample(withReplacement=False, fraction = 0.1).show()\n",
    "\n",
    "spark.stop()"
   ]
  },
  {
   "cell_type": "code",
   "execution_count": null,
   "id": "7b67a6c8-a26c-4530-9a9c-d3d0732b2aa8",
   "metadata": {},
   "outputs": [],
   "source": []
  }
 ],
 "metadata": {
  "kernelspec": {
   "display_name": "Python 3 (ipykernel)",
   "language": "python",
   "name": "python3"
  },
  "language_info": {
   "codemirror_mode": {
    "name": "ipython",
    "version": 3
   },
   "file_extension": ".py",
   "mimetype": "text/x-python",
   "name": "python",
   "nbconvert_exporter": "python",
   "pygments_lexer": "ipython3",
   "version": "3.11.9"
  }
 },
 "nbformat": 4,
 "nbformat_minor": 5
}
